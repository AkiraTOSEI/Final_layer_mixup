{
 "cells": [
  {
   "cell_type": "code",
   "execution_count": 1,
   "metadata": {},
   "outputs": [],
   "source": [
    "import os\n",
    "\n",
    "import numpy as np\n",
    "import tensorflow as tf\n",
    "from tensorflow.keras.datasets import cifar10\n",
    "from tensorflow.keras.layers import Input, Layer, Dense\n",
    "from tensorflow.keras.utils import to_categorical\n",
    "from tensorflow.keras.losses import categorical_crossentropy\n",
    "from tqdm import tqdm\n",
    "\n",
    "from tf__resnet.resnet_builder.resnet import ResnetBuilder"
   ]
  },
  {
   "cell_type": "code",
   "execution_count": 2,
   "metadata": {},
   "outputs": [],
   "source": [
    "class MixUp(Layer):\n",
    "    def __init__(self,**kwargs):\n",
    "        super(MixUp, self).__init__(**kwargs)\n",
    "\n",
    "    def call(self,x):\n",
    "        '''x = [data1, data2, mixup_ratio]\n",
    "        '''\n",
    "        x1 = x[0]\n",
    "        x2 = x[1]\n",
    "        lam = x[2] # mixing ratio\n",
    "        \n",
    "        # mixup ratio tensor reshape for add\n",
    "        x_shape = len(x1.shape)\n",
    "        lam_shape = len(lam.shape)\n",
    "        for i in range(x_shape-lam_shape):\n",
    "            lam = tf.expand_dims(lam,-1)\n",
    "\n",
    "        return tf.add(tf.math.multiply(x1,lam) , tf.math.multiply(x2,1.-lam))"
   ]
  },
  {
   "cell_type": "code",
   "execution_count": 3,
   "metadata": {},
   "outputs": [],
   "source": [
    "class Normal_Resnet(tf.keras.Model):\n",
    "    def __init__(self, resnet_name=\"ResNet18\"):\n",
    "        super(Normal_Resnet,self).__init__()\n",
    "        self.resnet = ResnetBuilder(name=\"ResNet18\",include_top=False)\n",
    "        self.fin_layer = Dense(class_num,activation=\"softmax\")\n",
    "        \n",
    "        \n",
    "    def call(self, x):\n",
    "        # input x = [data1, data2, mixup_ratio]\n",
    "        # Not using data2, ram\n",
    "        x1 = x[0]\n",
    "        \n",
    "        h = self.resnet(x1)\n",
    "        output = self.fin_layer(h)\n",
    "        return output"
   ]
  },
  {
   "cell_type": "code",
   "execution_count": 4,
   "metadata": {},
   "outputs": [],
   "source": [
    "class Standard_Mixup_Resnet(tf.keras.Model):\n",
    "    def __init__(self, resnet_name=\"ResNet18\"):\n",
    "        super(Standard_Mixup_Resnet,self).__init__()\n",
    "        self.resnet = ResnetBuilder(name=\"ResNet18\",include_top=False)\n",
    "        self.mixup = MixUp()\n",
    "        self.fin_layer = Dense(class_num,activation=\"softmax\")\n",
    "        \n",
    "        \n",
    "    def call(self, x):\n",
    "        # input x = [data1, data2, mixup_ratio]\n",
    "        h = self.mixup(x)\n",
    "        h = self.resnet(h)\n",
    "        output = self.fin_layer(h)\n",
    "        return output"
   ]
  },
  {
   "cell_type": "code",
   "execution_count": 5,
   "metadata": {},
   "outputs": [],
   "source": [
    "class FinLayer_Mixup_Resnet(tf.keras.Model):\n",
    "    def __init__(self, resnet_name=\"ResNet18\"):\n",
    "        super(FinLayer_Mixup_Resnet,self).__init__()\n",
    "        self.resnet = ResnetBuilder(name=\"ResNet18\",include_top=False)\n",
    "        self.mixup = MixUp()\n",
    "        self.fin_layer = Dense(class_num,activation=\"softmax\")\n",
    "        \n",
    "        \n",
    "    def call(self, x):\n",
    "        # input x = [data1, data2, mixup_ratio]\n",
    "        x1 = x[0]\n",
    "        x2 = x[1]\n",
    "        lam = x[2] # mixing ratio\n",
    "        \n",
    "        h1 = self.resnet(x1)\n",
    "        h2 = self.resnet(x2)\n",
    "        h = self.mixup([h1,h2,lam])\n",
    "        output = self.fin_layer(h)\n",
    "        return output"
   ]
  },
  {
   "cell_type": "markdown",
   "metadata": {},
   "source": [
    "# dataset"
   ]
  },
  {
   "cell_type": "markdown",
   "metadata": {},
   "source": [
    "#### load and standardzing dataset"
   ]
  },
  {
   "cell_type": "markdown",
   "metadata": {},
   "source": [
    "#### create a train dataset for eval whose data size is sam"
   ]
  },
  {
   "cell_type": "code",
   "execution_count": 6,
   "metadata": {},
   "outputs": [],
   "source": [
    "# CIFAR 10 Information\n",
    "class_num = 10\n",
    "ch_num = 3\n",
    "img_size = 32\n",
    "\n",
    "# The data, shuffled and split between train and test sets:\n",
    "(X_train, y_train), (X_test, y_test) = cifar10.load_data()\n",
    "# Convert class vectors to binary class matrices.\n",
    "Y_train = to_categorical(y_train, class_num)\n",
    "Y_test = to_categorical(y_test, class_num)\n",
    "\n",
    "X_train = X_train.astype('float32')\n",
    "X_test = X_test.astype('float32')\n",
    "\n",
    "# subtract mean and normalize\n",
    "mean_image = np.mean(X_train)\n",
    "X_train -= mean_image\n",
    "X_test -= mean_image\n",
    "X_train /= 128.\n",
    "X_test /= 128."
   ]
  },
  {
   "cell_type": "code",
   "execution_count": 7,
   "metadata": {},
   "outputs": [],
   "source": [
    "def data_balance(labels,data_num):\n",
    "    \"\"\"data choice function for label balanced data\n",
    "    \"\"\"\n",
    "    labels_dic = {}\n",
    "    ids = np.arange(labels.shape[0])\n",
    "    for label in range(len(np.unique(labels))):\n",
    "        label_choice = ids[labels==label]\n",
    "        shfl = np.random.choice(label_choice.shape[0], data_num, replace=False)\n",
    "        labels_dic[label] = label_choice[shfl]\n",
    "    data_choice = np.concatenate([labels_dic[label] for label in labels_dic.keys()],axis=0)\n",
    "    shfl = np.random.choice(data_choice.shape[0],data_choice.shape[0],replace=False)\n",
    "    data_choice = data_choice[shfl]\n",
    "\n",
    "    # check\n",
    "    shfl_labels = labels[data_choice]\n",
    "    assert len(np.unique(shfl_labels)) == len(np.unique(labels))\n",
    "    assert (np.unique(shfl_labels,return_counts=True)[1] == data_num).all()\n",
    "\n",
    "    return data_choice"
   ]
  },
  {
   "cell_type": "code",
   "execution_count": 8,
   "metadata": {},
   "outputs": [
    {
     "data": {
      "text/plain": [
       "array([1000., 1000., 1000., 1000., 1000., 1000., 1000., 1000., 1000.,\n",
       "       1000.], dtype=float32)"
      ]
     },
     "execution_count": 8,
     "metadata": {},
     "output_type": "execute_result"
    }
   ],
   "source": [
    "choice = data_balance(y_train.reshape(-1),data_num=Y_test.shape[0]//10)\n",
    "X_train_eval = X_train[choice]\n",
    "Y_train_eval = Y_train[choice]\n",
    "np.sum(Y_train_eval,axis=0)"
   ]
  },
  {
   "cell_type": "code",
   "execution_count": 9,
   "metadata": {},
   "outputs": [],
   "source": [
    "# random flip image\n",
    "def flip_image(image):\n",
    "    return tf.image.random_flip_left_right(image)\n",
    "\n",
    "# random crop shift range\n",
    "shift_range = 0.1\n",
    "expand_target_size = int(img_size*(shift_range+1))\n",
    "def image_shift(image):\n",
    "    # padding\n",
    "    image = tf.image.resize_with_crop_or_pad(\n",
    "                    image,\n",
    "                    expand_target_size,\n",
    "                    expand_target_size\n",
    "                    )\n",
    "    #random crop\n",
    "    image = tf.image.random_crop(\n",
    "                    image,\n",
    "                    size=[img_size, img_size, ch_num]\n",
    "                    )\n",
    "    return image"
   ]
  },
  {
   "cell_type": "code",
   "execution_count": null,
   "metadata": {},
   "outputs": [],
   "source": []
  },
  {
   "cell_type": "markdown",
   "metadata": {},
   "source": [
    "# Training"
   ]
  },
  {
   "cell_type": "code",
   "execution_count": 10,
   "metadata": {},
   "outputs": [],
   "source": [
    "class training_model():\n",
    "    def __init__(self,X_train,Y_train, X_train_eval, Y_train_eval, X_test,Y_test, alpha=0.2, batch_size=64):\n",
    "        self.mixup = True\n",
    "        self.model = self.define_model()\n",
    "        self.model([Input((32,32,3)),Input((32,32,3)),Input((1,))])\n",
    "        self.model.compile(loss='categorical_crossentropy',\n",
    "              optimizer='adam',\n",
    "              metrics=['accuracy'])\n",
    "        self.model.summary()\n",
    "        self.model_vals = self.model.trainable_variables\n",
    "        self.batch_size = batch_size\n",
    "        self.alpha = alpha\n",
    "        self.datas = [X_train,Y_train, X_train_eval, Y_train_eval, X_test,Y_test]\n",
    "\n",
    "\n",
    "    def define_model(self):\n",
    "        raise Exception(\"please define your model\")\n",
    " \n",
    "\n",
    "\n",
    "    def create_mixup_dataset(self,X_data,Y_data,mixup=True):\n",
    "        # create train data for mixup\n",
    "        if mixup==True:\n",
    "            shfl1 = np.random.choice(X_data.shape[0],X_data.shape[0],replace=False)\n",
    "            shfl2 = np.random.choice(X_data.shape[0],X_data.shape[0],replace=False)\n",
    "        else:\n",
    "            shfl1 = np.arange(X_data.shape[0])\n",
    "            shfl2 = np.arange(X_data.shape[0])\n",
    "            \n",
    "        X_data1 = X_data[shfl1]\n",
    "        X_data2 = X_data[shfl2]\n",
    "        Y_data1 = Y_data[shfl1]\n",
    "        Y_data2 = Y_data[shfl2]\n",
    "\n",
    "        # ratio datset\n",
    "        ratio_array = np.random.beta(self.alpha, self.alpha, X_data.shape[0]).reshape(-1,1).astype(np.float32)\n",
    "        ratio = tf.data.Dataset.from_tensor_slices(ratio_array)\n",
    "\n",
    "        # input_dataset for mixup\n",
    "        input_ds1 = tf.data.Dataset.from_tensor_slices(X_data1)\n",
    "        input_ds1 = input_ds1.map(flip_image,num_parallel_calls=tf.data.experimental.AUTOTUNE).map(image_shift,num_parallel_calls=tf.data.experimental.AUTOTUNE)\n",
    "        input_ds2 = tf.data.Dataset.from_tensor_slices(X_data2)\n",
    "        input_ds2 = input_ds2.map(flip_image,num_parallel_calls=tf.data.experimental.AUTOTUNE).map(image_shift,num_parallel_calls=tf.data.experimental.AUTOTUNE)\n",
    "        input_ds = tf.data.Dataset.zip((input_ds1, input_ds2, ratio))\n",
    "\n",
    "        # target_dataset\n",
    "        if mixup==True:\n",
    "            Y_data = Y_data1*ratio_array + Y_data2*(1.-ratio_array)\n",
    "        else:\n",
    "            Y_data=Y_data1\n",
    "        target_ds = tf.data.Dataset.from_tensor_slices(Y_data)\n",
    "        \n",
    "        # dataset\n",
    "        ds = tf.data.Dataset.zip((input_ds, target_ds)).batch(self.batch_size)\n",
    "        batch_num = int(np.ceil(X_data.shape[0]/self.batch_size))\n",
    "        \n",
    "        return ds, batch_num\n",
    "    \n",
    "    def print_target_sample(self,iterator):\n",
    "        x,y = next(iterator)\n",
    "        print(y[:5])\n",
    "        print(\"\")\n",
    "        \n",
    "    \n",
    "    @tf.function\n",
    "    def train_step(self,b_input, b_target):\n",
    "        with tf.GradientTape() as tape:\n",
    "            preds = self.model(b_input)\n",
    "            loss = categorical_crossentropy(b_target, preds)\n",
    "        grads = tape.gradient(loss, self.model_vals)\n",
    "        self.optimizer.apply_gradients(zip(grads, self.model_vals))\n",
    "\n",
    "        \n",
    "    def minibatch_training(self):\n",
    "            b_input, b_target = next(self.train_iter)\n",
    "            self.train_step(b_input,b_target)\n",
    "                \n",
    "                       \n",
    "    def train(self,\n",
    "                    epochs=200, \n",
    "                    max_patience=5, # early stop patience\n",
    "                    ):\n",
    "        # create valid, train(for eval) dataset\n",
    "        X_train,Y_train, X_train_eval, Y_train_eval, X_test,Y_test = self.datas\n",
    "        test_ds, test_batch_num = self.create_mixup_dataset(X_test, Y_test,mixup=False)\n",
    "        train_e_ds, train_e_batch_num = self.create_mixup_dataset(X_train_eval, Y_train_eval,mixup=False)\n",
    "        train_ds, train_batch_num = self.create_mixup_dataset(X_train, Y_train,mixup=self.mixup)\n",
    "        \n",
    "        self.optimizer =  tf.keras.optimizers.Adam() # optimizer setting\n",
    "        losses = [] # valid loss history\n",
    "        patience=0 # early stop patience\n",
    "        \n",
    "        #First Evaluation\n",
    "        print(\"First_evaluation\")\n",
    "        [train_loss, train_acc] = self.model.evaluate(train_e_ds,steps=train_e_batch_num, verbose=1)\n",
    "        [valid_loss, valid_acc] = self.model.evaluate(test_ds,steps=test_batch_num, verbose=1)\n",
    "        best_train_losses = [train_loss, train_acc]\n",
    "        best_valid_losses = [valid_loss, valid_acc]\n",
    "        min_loss = valid_loss\n",
    "        #losses.append(valid_loss)\n",
    "        print(\"epoch:\",0,\"-----\",end=\"\")\n",
    "        print(\"train loss :\",round(train_loss, 4), \",train acc: \",round(train_acc, 4),end=\"\")\n",
    "        print(\",  valid loss :\",round(valid_loss, 4), \",vaild acc: \",round(valid_acc, 4))\n",
    "        \n",
    "        for phase, iterator in zip([\"train\",\"train-eval\",\"test\"],[iter(train_ds),iter(train_e_ds),iter(test_ds)]):\n",
    "            print(phase,\"sample\")\n",
    "            self.print_target_sample(iterator)\n",
    "            \n",
    "        \n",
    "        \n",
    "        # start training\n",
    "        for epoch in range(epochs):\n",
    "            # create mixuped dataset for train\n",
    "            train_ds, train_batch_num = self.create_mixup_dataset(X_train, Y_train,mixup=self.mixup)\n",
    "            self.train_iter = iter(train_ds)\n",
    "            if epoch == 0: print(\"batch num \",train_batch_num)\n",
    "                \n",
    "            for batch in tqdm(range(train_batch_num)):\n",
    "                # minibatch training\n",
    "                self.minibatch_training()\n",
    "                \n",
    "            # evaluation at epoch end\n",
    "            [train_loss, train_acc] = self.model.evaluate(train_e_ds,steps=train_e_batch_num, verbose=0)\n",
    "            [valid_loss, valid_acc] = self.model.evaluate(test_ds,steps=test_batch_num, verbose=0)\n",
    "            losses.append(valid_loss)\n",
    "            print(\"epoch:\",epoch+1,\"-----\",end=\"\")\n",
    "            print(\"train loss :\",round(train_loss, 4), \",train acc: \",round(train_acc, 4),end=\"\")\n",
    "            print(\",  valid loss :\",round(valid_loss, 4), \",vaild acc: \",round(valid_acc, 4),end=\"\")\n",
    "            \n",
    "            if min_loss > valid_loss:\n",
    "                self.model.save_weights(os.path.join(\"./model.h5\", ))\n",
    "                best_train_losses = [train_loss, train_acc]\n",
    "                best_valid_losses = [valid_loss, valid_acc]\n",
    "                min_loss = valid_loss\n",
    "                patience=0\n",
    "                print(\"     loss improved!\")\n",
    "            else:\n",
    "                patience+=1\n",
    "                print(\"\")\n",
    "                \n",
    "            # early stopping\n",
    "            if patience>max_patience:break\n",
    "\n",
    "        print(\"-------------------------------\")\n",
    "        print(\"Training Results at best validation loss\")\n",
    "        print(\"train loss :\",round(best_train_losses[0], 4), \",train acc: \",round(best_train_losses[1], 4),end=\"\")\n",
    "        print(\",  valid loss :\",round(best_valid_losses[0], 4), \",vaild acc: \",round(best_valid_losses[1], 4))\n",
    "        \n",
    "        return losses, [best_train_losses,best_valid_losses]"
   ]
  },
  {
   "cell_type": "markdown",
   "metadata": {},
   "source": [
    "# Experiment"
   ]
  },
  {
   "cell_type": "code",
   "execution_count": 11,
   "metadata": {},
   "outputs": [],
   "source": [
    "result_dict = {}"
   ]
  },
  {
   "cell_type": "markdown",
   "metadata": {},
   "source": [
    "## MIXUP at Final Layer"
   ]
  },
  {
   "cell_type": "code",
   "execution_count": 12,
   "metadata": {},
   "outputs": [],
   "source": [
    "class FinalLayer_MIXUP_CIFAR10(training_model):\n",
    "    def define_model(self):\n",
    "        self.mixup = True\n",
    "        return FinLayer_Mixup_Resnet()"
   ]
  },
  {
   "cell_type": "code",
   "execution_count": 13,
   "metadata": {
    "scrolled": true
   },
   "outputs": [
    {
     "name": "stdout",
     "output_type": "stream",
     "text": [
      "Model: \"fin_layer__mixup__resnet\"\n",
      "_________________________________________________________________\n",
      "Layer (type)                 Output Shape              Param #   \n",
      "=================================================================\n",
      "ResNet18 (ResnetBuilder)     (None, 512)               9782720   \n",
      "_________________________________________________________________\n",
      "mix_up (MixUp)               (None, 512)               0         \n",
      "_________________________________________________________________\n",
      "dense (Dense)                (None, 10)                5130      \n",
      "=================================================================\n",
      "Total params: 9,787,850\n",
      "Trainable params: 9,779,914\n",
      "Non-trainable params: 7,936\n",
      "_________________________________________________________________\n",
      "First_evaluation\n",
      "157/157 [==============================] - 7s 47ms/step - loss: 9.3432 - accuracy: 0.1403\n",
      "157/157 [==============================] - 3s 17ms/step - loss: 9.3591 - accuracy: 0.1361\n",
      "epoch: 0 -----train loss : 9.3432 ,train acc:  0.1403,  valid loss : 9.3591 ,vaild acc:  0.1361\n",
      "train sample\n",
      "tf.Tensor(\n",
      "[[0.0000000e+00 9.9999911e-01 0.0000000e+00 0.0000000e+00 0.0000000e+00\n",
      "  0.0000000e+00 0.0000000e+00 0.0000000e+00 0.0000000e+00 8.9406967e-07]\n",
      " [0.0000000e+00 0.0000000e+00 0.0000000e+00 0.0000000e+00 4.8483952e-04\n",
      "  0.0000000e+00 0.0000000e+00 0.0000000e+00 0.0000000e+00 9.9951518e-01]\n",
      " [6.7353249e-06 0.0000000e+00 0.0000000e+00 0.0000000e+00 0.0000000e+00\n",
      "  0.0000000e+00 9.9999326e-01 0.0000000e+00 0.0000000e+00 0.0000000e+00]\n",
      " [0.0000000e+00 1.0000000e+00 0.0000000e+00 0.0000000e+00 0.0000000e+00\n",
      "  0.0000000e+00 0.0000000e+00 0.0000000e+00 0.0000000e+00 0.0000000e+00]\n",
      " [0.0000000e+00 0.0000000e+00 0.0000000e+00 0.0000000e+00 0.0000000e+00\n",
      "  0.0000000e+00 9.9996674e-01 3.3259392e-05 0.0000000e+00 0.0000000e+00]], shape=(5, 10), dtype=float32)\n",
      "\n",
      "train-eval sample\n",
      "tf.Tensor(\n",
      "[[0. 0. 0. 1. 0. 0. 0. 0. 0. 0.]\n",
      " [0. 0. 0. 0. 0. 1. 0. 0. 0. 0.]\n",
      " [0. 0. 0. 0. 0. 0. 0. 0. 0. 1.]\n",
      " [0. 0. 0. 0. 1. 0. 0. 0. 0. 0.]\n",
      " [0. 0. 0. 0. 0. 0. 0. 1. 0. 0.]], shape=(5, 10), dtype=float32)\n",
      "\n",
      "test sample\n",
      "tf.Tensor(\n",
      "[[0. 0. 0. 1. 0. 0. 0. 0. 0. 0.]\n",
      " [0. 0. 0. 0. 0. 0. 0. 0. 1. 0.]\n",
      " [0. 0. 0. 0. 0. 0. 0. 0. 1. 0.]\n",
      " [1. 0. 0. 0. 0. 0. 0. 0. 0. 0.]\n",
      " [0. 0. 0. 0. 0. 0. 1. 0. 0. 0.]], shape=(5, 10), dtype=float32)\n",
      "\n"
     ]
    },
    {
     "name": "stderr",
     "output_type": "stream",
     "text": [
      "\r",
      "  0%|          | 0/782 [00:00<?, ?it/s]"
     ]
    },
    {
     "name": "stdout",
     "output_type": "stream",
     "text": [
      "batch num  782\n"
     ]
    },
    {
     "name": "stderr",
     "output_type": "stream",
     "text": [
      "100%|██████████| 782/782 [00:39<00:00, 19.70it/s]\n"
     ]
    },
    {
     "name": "stdout",
     "output_type": "stream",
     "text": [
      "epoch: 1 -----train loss : 1.3425 ,train acc:  0.5173,  valid loss : 1.3405 ,vaild acc:  0.5196     loss improved!\n"
     ]
    },
    {
     "name": "stderr",
     "output_type": "stream",
     "text": [
      "100%|██████████| 782/782 [00:27<00:00, 28.54it/s]\n"
     ]
    },
    {
     "name": "stdout",
     "output_type": "stream",
     "text": [
      "epoch: 2 -----train loss : 1.1226 ,train acc:  0.6018,  valid loss : 1.1332 ,vaild acc:  0.5923     loss improved!\n"
     ]
    },
    {
     "name": "stderr",
     "output_type": "stream",
     "text": [
      "100%|██████████| 782/782 [00:28<00:00, 27.57it/s]\n"
     ]
    },
    {
     "name": "stdout",
     "output_type": "stream",
     "text": [
      "epoch: 3 -----train loss : 1.0435 ,train acc:  0.6245,  valid loss : 1.0631 ,vaild acc:  0.6192     loss improved!\n"
     ]
    },
    {
     "name": "stderr",
     "output_type": "stream",
     "text": [
      "100%|██████████| 782/782 [00:27<00:00, 28.03it/s]\n"
     ]
    },
    {
     "name": "stdout",
     "output_type": "stream",
     "text": [
      "epoch: 4 -----train loss : 0.9406 ,train acc:  0.6706,  valid loss : 0.985 ,vaild acc:  0.6551     loss improved!\n"
     ]
    },
    {
     "name": "stderr",
     "output_type": "stream",
     "text": [
      "100%|██████████| 782/782 [00:27<00:00, 28.12it/s]\n"
     ]
    },
    {
     "name": "stdout",
     "output_type": "stream",
     "text": [
      "epoch: 5 -----train loss : 0.9567 ,train acc:  0.6688,  valid loss : 1.0125 ,vaild acc:  0.6613\n"
     ]
    },
    {
     "name": "stderr",
     "output_type": "stream",
     "text": [
      "100%|██████████| 782/782 [00:29<00:00, 26.82it/s]\n"
     ]
    },
    {
     "name": "stdout",
     "output_type": "stream",
     "text": [
      "epoch: 6 -----train loss : 0.8625 ,train acc:  0.7007,  valid loss : 0.9364 ,vaild acc:  0.6799     loss improved!\n"
     ]
    },
    {
     "name": "stderr",
     "output_type": "stream",
     "text": [
      "100%|██████████| 782/782 [00:27<00:00, 28.02it/s]\n"
     ]
    },
    {
     "name": "stdout",
     "output_type": "stream",
     "text": [
      "epoch: 7 -----train loss : 0.7949 ,train acc:  0.7246,  valid loss : 0.8721 ,vaild acc:  0.7007     loss improved!\n"
     ]
    },
    {
     "name": "stderr",
     "output_type": "stream",
     "text": [
      "100%|██████████| 782/782 [00:28<00:00, 11.21it/s]\n"
     ]
    },
    {
     "name": "stdout",
     "output_type": "stream",
     "text": [
      "epoch: 8 -----train loss : 0.7344 ,train acc:  0.749,  valid loss : 0.8358 ,vaild acc:  0.7102     loss improved!\n"
     ]
    },
    {
     "name": "stderr",
     "output_type": "stream",
     "text": [
      "100%|██████████| 782/782 [00:28<00:00, 31.87it/s]\n"
     ]
    },
    {
     "name": "stdout",
     "output_type": "stream",
     "text": [
      "epoch: 9 -----train loss : 0.6957 ,train acc:  0.7552,  valid loss : 0.817 ,vaild acc:  0.7165     loss improved!\n"
     ]
    },
    {
     "name": "stderr",
     "output_type": "stream",
     "text": [
      "100%|██████████| 782/782 [00:27<00:00, 27.95it/s]\n"
     ]
    },
    {
     "name": "stdout",
     "output_type": "stream",
     "text": [
      "epoch: 10 -----train loss : 0.7 ,train acc:  0.7582,  valid loss : 0.8389 ,vaild acc:  0.7167\n"
     ]
    },
    {
     "name": "stderr",
     "output_type": "stream",
     "text": [
      "100%|██████████| 782/782 [00:28<00:00, 27.45it/s]\n"
     ]
    },
    {
     "name": "stdout",
     "output_type": "stream",
     "text": [
      "epoch: 11 -----train loss : 0.6691 ,train acc:  0.7738,  valid loss : 0.8194 ,vaild acc:  0.7255\n"
     ]
    },
    {
     "name": "stderr",
     "output_type": "stream",
     "text": [
      "100%|██████████| 782/782 [00:28<00:00, 22.35it/s]\n"
     ]
    },
    {
     "name": "stdout",
     "output_type": "stream",
     "text": [
      "epoch: 12 -----train loss : 0.6101 ,train acc:  0.7895,  valid loss : 0.7654 ,vaild acc:  0.7377     loss improved!\n"
     ]
    },
    {
     "name": "stderr",
     "output_type": "stream",
     "text": [
      "100%|██████████| 782/782 [00:29<00:00, 31.34it/s]\n"
     ]
    },
    {
     "name": "stdout",
     "output_type": "stream",
     "text": [
      "epoch: 13 -----train loss : 0.5996 ,train acc:  0.7958,  valid loss : 0.7711 ,vaild acc:  0.745\n"
     ]
    },
    {
     "name": "stderr",
     "output_type": "stream",
     "text": [
      "100%|██████████| 782/782 [00:28<00:00, 27.16it/s]\n"
     ]
    },
    {
     "name": "stdout",
     "output_type": "stream",
     "text": [
      "epoch: 14 -----train loss : 0.5751 ,train acc:  0.8077,  valid loss : 0.7481 ,vaild acc:  0.7451     loss improved!\n"
     ]
    },
    {
     "name": "stderr",
     "output_type": "stream",
     "text": [
      "100%|██████████| 782/782 [00:28<00:00, 27.59it/s]\n"
     ]
    },
    {
     "name": "stdout",
     "output_type": "stream",
     "text": [
      "epoch: 15 -----train loss : 0.6016 ,train acc:  0.7961,  valid loss : 0.7904 ,vaild acc:  0.7347\n"
     ]
    },
    {
     "name": "stderr",
     "output_type": "stream",
     "text": [
      "100%|██████████| 782/782 [00:27<00:00, 28.62it/s]\n"
     ]
    },
    {
     "name": "stdout",
     "output_type": "stream",
     "text": [
      "epoch: 16 -----train loss : 0.5397 ,train acc:  0.8138,  valid loss : 0.7503 ,vaild acc:  0.747\n"
     ]
    },
    {
     "name": "stderr",
     "output_type": "stream",
     "text": [
      "100%|██████████| 782/782 [00:28<00:00, 27.80it/s]\n"
     ]
    },
    {
     "name": "stdout",
     "output_type": "stream",
     "text": [
      "epoch: 17 -----train loss : 0.4822 ,train acc:  0.8378,  valid loss : 0.706 ,vaild acc:  0.7644     loss improved!\n"
     ]
    },
    {
     "name": "stderr",
     "output_type": "stream",
     "text": [
      "100%|██████████| 782/782 [00:28<00:00, 27.11it/s]\n"
     ]
    },
    {
     "name": "stdout",
     "output_type": "stream",
     "text": [
      "epoch: 18 -----train loss : 0.471 ,train acc:  0.8372,  valid loss : 0.7256 ,vaild acc:  0.7557\n"
     ]
    },
    {
     "name": "stderr",
     "output_type": "stream",
     "text": [
      "100%|██████████| 782/782 [00:37<00:00, 31.09it/s]\n"
     ]
    },
    {
     "name": "stdout",
     "output_type": "stream",
     "text": [
      "epoch: 19 -----train loss : 0.4305 ,train acc:  0.8538,  valid loss : 0.713 ,vaild acc:  0.7654\n"
     ]
    },
    {
     "name": "stderr",
     "output_type": "stream",
     "text": [
      "100%|██████████| 782/782 [00:29<00:00, 26.90it/s]\n"
     ]
    },
    {
     "name": "stdout",
     "output_type": "stream",
     "text": [
      "epoch: 20 -----train loss : 0.4619 ,train acc:  0.8438,  valid loss : 0.7433 ,vaild acc:  0.7583\n"
     ]
    },
    {
     "name": "stderr",
     "output_type": "stream",
     "text": [
      "100%|██████████| 782/782 [00:40<00:00, 19.19it/s]\n"
     ]
    },
    {
     "name": "stdout",
     "output_type": "stream",
     "text": [
      "epoch: 21 -----train loss : 0.473 ,train acc:  0.8386,  valid loss : 0.7547 ,vaild acc:  0.7555\n"
     ]
    },
    {
     "name": "stderr",
     "output_type": "stream",
     "text": [
      "100%|██████████| 782/782 [00:31<00:00, 24.56it/s]\n"
     ]
    },
    {
     "name": "stdout",
     "output_type": "stream",
     "text": [
      "epoch: 22 -----train loss : 0.3975 ,train acc:  0.8668,  valid loss : 0.7087 ,vaild acc:  0.7717\n"
     ]
    },
    {
     "name": "stderr",
     "output_type": "stream",
     "text": [
      "100%|██████████| 782/782 [00:27<00:00, 28.15it/s]\n"
     ]
    },
    {
     "name": "stdout",
     "output_type": "stream",
     "text": [
      "epoch: 23 -----train loss : 0.4003 ,train acc:  0.8684,  valid loss : 0.7345 ,vaild acc:  0.7658\n",
      "-------------------------------\n",
      "Training Results at best validation loss\n",
      "train loss : 0.4822 ,train acc:  0.8378,  valid loss : 0.706 ,vaild acc:  0.7644\n"
     ]
    }
   ],
   "source": [
    "model = FinalLayer_MIXUP_CIFAR10(X_train,Y_train, X_train_eval, Y_train_eval, X_test,Y_test, alpha=0.04)\n",
    "result_dict[\"fin_0.04\"] = model.train()"
   ]
  },
  {
   "cell_type": "code",
   "execution_count": 14,
   "metadata": {
    "scrolled": true
   },
   "outputs": [
    {
     "name": "stdout",
     "output_type": "stream",
     "text": [
      "Model: \"fin_layer__mixup__resnet_1\"\n",
      "_________________________________________________________________\n",
      "Layer (type)                 Output Shape              Param #   \n",
      "=================================================================\n",
      "ResNet18 (ResnetBuilder)     (None, 512)               9782720   \n",
      "_________________________________________________________________\n",
      "mix_up_1 (MixUp)             (None, 512)               0         \n",
      "_________________________________________________________________\n",
      "dense_1 (Dense)              (None, 10)                5130      \n",
      "=================================================================\n",
      "Total params: 9,787,850\n",
      "Trainable params: 9,779,914\n",
      "Non-trainable params: 7,936\n",
      "_________________________________________________________________\n",
      "First_evaluation\n",
      "157/157 [==============================] - 6s 36ms/step - loss: 13.3728 - accuracy: 0.1015\n",
      "157/157 [==============================] - 3s 18ms/step - loss: 13.3396 - accuracy: 0.1011\n",
      "epoch: 0 -----train loss : 13.3728 ,train acc:  0.1015,  valid loss : 13.3396 ,vaild acc:  0.1011\n",
      "train sample\n",
      "tf.Tensor(\n",
      "[[0.7094555  0.         0.         0.         0.         0.\n",
      "  0.         0.         0.2905445  0.        ]\n",
      " [0.9953368  0.         0.         0.0046632  0.         0.\n",
      "  0.         0.         0.         0.        ]\n",
      " [0.         0.         0.         0.         0.         1.\n",
      "  0.         0.         0.         0.        ]\n",
      " [0.6237245  0.         0.         0.         0.         0.\n",
      "  0.         0.         0.         0.37627548]\n",
      " [0.         0.         0.         0.         0.         1.\n",
      "  0.         0.         0.         0.        ]], shape=(5, 10), dtype=float32)\n",
      "\n",
      "train-eval sample\n",
      "tf.Tensor(\n",
      "[[0. 0. 0. 1. 0. 0. 0. 0. 0. 0.]\n",
      " [0. 0. 0. 0. 0. 1. 0. 0. 0. 0.]\n",
      " [0. 0. 0. 0. 0. 0. 0. 0. 0. 1.]\n",
      " [0. 0. 0. 0. 1. 0. 0. 0. 0. 0.]\n",
      " [0. 0. 0. 0. 0. 0. 0. 1. 0. 0.]], shape=(5, 10), dtype=float32)\n",
      "\n",
      "test sample\n",
      "tf.Tensor(\n",
      "[[0. 0. 0. 1. 0. 0. 0. 0. 0. 0.]\n",
      " [0. 0. 0. 0. 0. 0. 0. 0. 1. 0.]\n",
      " [0. 0. 0. 0. 0. 0. 0. 0. 1. 0.]\n",
      " [1. 0. 0. 0. 0. 0. 0. 0. 0. 0.]\n",
      " [0. 0. 0. 0. 0. 0. 1. 0. 0. 0.]], shape=(5, 10), dtype=float32)\n",
      "\n"
     ]
    },
    {
     "name": "stderr",
     "output_type": "stream",
     "text": [
      "\r",
      "  0%|          | 0/782 [00:00<?, ?it/s]"
     ]
    },
    {
     "name": "stdout",
     "output_type": "stream",
     "text": [
      "batch num  782\n"
     ]
    },
    {
     "name": "stderr",
     "output_type": "stream",
     "text": [
      "100%|██████████| 782/782 [00:39<00:00,  3.24it/s]\n"
     ]
    },
    {
     "name": "stdout",
     "output_type": "stream",
     "text": [
      "epoch: 1 -----train loss : 1.3818 ,train acc:  0.5128,  valid loss : 1.3817 ,vaild acc:  0.511     loss improved!\n"
     ]
    },
    {
     "name": "stderr",
     "output_type": "stream",
     "text": [
      "100%|██████████| 782/782 [00:27<00:00, 28.04it/s]\n"
     ]
    },
    {
     "name": "stdout",
     "output_type": "stream",
     "text": [
      "epoch: 2 -----train loss : 1.1376 ,train acc:  0.5958,  valid loss : 1.1633 ,vaild acc:  0.5915     loss improved!\n"
     ]
    },
    {
     "name": "stderr",
     "output_type": "stream",
     "text": [
      "100%|██████████| 782/782 [00:28<00:00, 29.24it/s]\n"
     ]
    },
    {
     "name": "stdout",
     "output_type": "stream",
     "text": [
      "epoch: 3 -----train loss : 1.0921 ,train acc:  0.6234,  valid loss : 1.1276 ,vaild acc:  0.6104     loss improved!\n"
     ]
    },
    {
     "name": "stderr",
     "output_type": "stream",
     "text": [
      "100%|██████████| 782/782 [00:28<00:00, 27.54it/s]\n"
     ]
    },
    {
     "name": "stdout",
     "output_type": "stream",
     "text": [
      "epoch: 4 -----train loss : 1.0364 ,train acc:  0.6441,  valid loss : 1.0907 ,vaild acc:  0.6258     loss improved!\n"
     ]
    },
    {
     "name": "stderr",
     "output_type": "stream",
     "text": [
      "100%|██████████| 782/782 [00:29<00:00, 26.91it/s]\n"
     ]
    },
    {
     "name": "stdout",
     "output_type": "stream",
     "text": [
      "epoch: 5 -----train loss : 0.9024 ,train acc:  0.6828,  valid loss : 0.9531 ,vaild acc:  0.671     loss improved!\n"
     ]
    },
    {
     "name": "stderr",
     "output_type": "stream",
     "text": [
      "100%|██████████| 782/782 [00:29<00:00, 26.42it/s]\n"
     ]
    },
    {
     "name": "stdout",
     "output_type": "stream",
     "text": [
      "epoch: 6 -----train loss : 0.9493 ,train acc:  0.6728,  valid loss : 1.0229 ,vaild acc:  0.6492\n"
     ]
    },
    {
     "name": "stderr",
     "output_type": "stream",
     "text": [
      "100%|██████████| 782/782 [00:27<00:00, 30.10it/s]\n"
     ]
    },
    {
     "name": "stdout",
     "output_type": "stream",
     "text": [
      "epoch: 7 -----train loss : 0.8052 ,train acc:  0.7182,  valid loss : 0.9005 ,vaild acc:  0.6907     loss improved!\n"
     ]
    },
    {
     "name": "stderr",
     "output_type": "stream",
     "text": [
      "100%|██████████| 782/782 [00:28<00:00, 27.38it/s]\n"
     ]
    },
    {
     "name": "stdout",
     "output_type": "stream",
     "text": [
      "epoch: 8 -----train loss : 0.7514 ,train acc:  0.7474,  valid loss : 0.8543 ,vaild acc:  0.7122     loss improved!\n"
     ]
    },
    {
     "name": "stderr",
     "output_type": "stream",
     "text": [
      "100%|██████████| 782/782 [00:27<00:00, 28.24it/s]\n"
     ]
    },
    {
     "name": "stdout",
     "output_type": "stream",
     "text": [
      "epoch: 9 -----train loss : 0.7504 ,train acc:  0.7474,  valid loss : 0.8671 ,vaild acc:  0.711\n"
     ]
    },
    {
     "name": "stderr",
     "output_type": "stream",
     "text": [
      "100%|██████████| 782/782 [00:29<00:00, 26.90it/s]\n"
     ]
    },
    {
     "name": "stdout",
     "output_type": "stream",
     "text": [
      "epoch: 10 -----train loss : 0.6574 ,train acc:  0.778,  valid loss : 0.7885 ,vaild acc:  0.735     loss improved!\n"
     ]
    },
    {
     "name": "stderr",
     "output_type": "stream",
     "text": [
      "100%|██████████| 782/782 [00:28<00:00, 27.48it/s]\n"
     ]
    },
    {
     "name": "stdout",
     "output_type": "stream",
     "text": [
      "epoch: 11 -----train loss : 0.6654 ,train acc:  0.7738,  valid loss : 0.8133 ,vaild acc:  0.726\n"
     ]
    },
    {
     "name": "stderr",
     "output_type": "stream",
     "text": [
      "100%|██████████| 782/782 [00:27<00:00, 28.08it/s]\n"
     ]
    },
    {
     "name": "stdout",
     "output_type": "stream",
     "text": [
      "epoch: 12 -----train loss : 0.6448 ,train acc:  0.7874,  valid loss : 0.7907 ,vaild acc:  0.742\n"
     ]
    },
    {
     "name": "stderr",
     "output_type": "stream",
     "text": [
      "100%|██████████| 782/782 [00:29<00:00, 26.80it/s]\n"
     ]
    },
    {
     "name": "stdout",
     "output_type": "stream",
     "text": [
      "epoch: 13 -----train loss : 0.6237 ,train acc:  0.7938,  valid loss : 0.7876 ,vaild acc:  0.7385     loss improved!\n"
     ]
    },
    {
     "name": "stderr",
     "output_type": "stream",
     "text": [
      "100%|██████████| 782/782 [00:27<00:00, 28.53it/s]\n"
     ]
    },
    {
     "name": "stdout",
     "output_type": "stream",
     "text": [
      "epoch: 14 -----train loss : 0.5935 ,train acc:  0.8051,  valid loss : 0.7817 ,vaild acc:  0.7429     loss improved!\n"
     ]
    },
    {
     "name": "stderr",
     "output_type": "stream",
     "text": [
      "100%|██████████| 782/782 [00:28<00:00, 27.63it/s]\n"
     ]
    },
    {
     "name": "stdout",
     "output_type": "stream",
     "text": [
      "epoch: 15 -----train loss : 0.5582 ,train acc:  0.8171,  valid loss : 0.7408 ,vaild acc:  0.7526     loss improved!\n"
     ]
    },
    {
     "name": "stderr",
     "output_type": "stream",
     "text": [
      "100%|██████████| 782/782 [00:28<00:00, 27.59it/s]\n"
     ]
    },
    {
     "name": "stdout",
     "output_type": "stream",
     "text": [
      "epoch: 16 -----train loss : 0.5361 ,train acc:  0.8233,  valid loss : 0.7407 ,vaild acc:  0.756     loss improved!\n"
     ]
    },
    {
     "name": "stderr",
     "output_type": "stream",
     "text": [
      "100%|██████████| 782/782 [00:27<00:00, 29.21it/s]\n"
     ]
    },
    {
     "name": "stdout",
     "output_type": "stream",
     "text": [
      "epoch: 17 -----train loss : 0.512 ,train acc:  0.8287,  valid loss : 0.7292 ,vaild acc:  0.7616     loss improved!\n"
     ]
    },
    {
     "name": "stderr",
     "output_type": "stream",
     "text": [
      "100%|██████████| 782/782 [00:28<00:00, 27.24it/s]\n"
     ]
    },
    {
     "name": "stdout",
     "output_type": "stream",
     "text": [
      "epoch: 18 -----train loss : 0.4815 ,train acc:  0.845,  valid loss : 0.718 ,vaild acc:  0.7672     loss improved!\n"
     ]
    },
    {
     "name": "stderr",
     "output_type": "stream",
     "text": [
      "100%|██████████| 782/782 [00:27<00:00, 28.81it/s]\n"
     ]
    },
    {
     "name": "stdout",
     "output_type": "stream",
     "text": [
      "epoch: 19 -----train loss : 0.4906 ,train acc:  0.8394,  valid loss : 0.7525 ,vaild acc:  0.7542\n"
     ]
    },
    {
     "name": "stderr",
     "output_type": "stream",
     "text": [
      "100%|██████████| 782/782 [00:28<00:00, 13.37it/s]\n"
     ]
    },
    {
     "name": "stdout",
     "output_type": "stream",
     "text": [
      "epoch: 20 -----train loss : 0.4644 ,train acc:  0.8493,  valid loss : 0.7444 ,vaild acc:  0.7591\n"
     ]
    },
    {
     "name": "stderr",
     "output_type": "stream",
     "text": [
      "100%|██████████| 782/782 [00:28<00:00, 27.43it/s]\n"
     ]
    },
    {
     "name": "stdout",
     "output_type": "stream",
     "text": [
      "epoch: 21 -----train loss : 0.4655 ,train acc:  0.8465,  valid loss : 0.7414 ,vaild acc:  0.7645\n"
     ]
    },
    {
     "name": "stderr",
     "output_type": "stream",
     "text": [
      "100%|██████████| 782/782 [00:28<00:00, 27.68it/s]\n"
     ]
    },
    {
     "name": "stdout",
     "output_type": "stream",
     "text": [
      "epoch: 22 -----train loss : 0.4177 ,train acc:  0.8658,  valid loss : 0.7112 ,vaild acc:  0.7715     loss improved!\n"
     ]
    },
    {
     "name": "stderr",
     "output_type": "stream",
     "text": [
      "100%|██████████| 782/782 [00:28<00:00, 30.66it/s]\n"
     ]
    },
    {
     "name": "stdout",
     "output_type": "stream",
     "text": [
      "epoch: 23 -----train loss : 0.3979 ,train acc:  0.8708,  valid loss : 0.6999 ,vaild acc:  0.7717     loss improved!\n"
     ]
    },
    {
     "name": "stderr",
     "output_type": "stream",
     "text": [
      "100%|██████████| 782/782 [00:40<00:00, 28.59it/s]\n"
     ]
    },
    {
     "name": "stdout",
     "output_type": "stream",
     "text": [
      "epoch: 24 -----train loss : 0.3635 ,train acc:  0.8866,  valid loss : 0.6798 ,vaild acc:  0.7827     loss improved!\n"
     ]
    },
    {
     "name": "stderr",
     "output_type": "stream",
     "text": [
      "100%|██████████| 782/782 [00:31<00:00, 31.23it/s]\n"
     ]
    },
    {
     "name": "stdout",
     "output_type": "stream",
     "text": [
      "epoch: 25 -----train loss : 0.37 ,train acc:  0.8821,  valid loss : 0.7021 ,vaild acc:  0.7761\n"
     ]
    },
    {
     "name": "stderr",
     "output_type": "stream",
     "text": [
      "100%|██████████| 782/782 [00:28<00:00, 27.01it/s]\n"
     ]
    },
    {
     "name": "stdout",
     "output_type": "stream",
     "text": [
      "epoch: 26 -----train loss : 0.3638 ,train acc:  0.8837,  valid loss : 0.6905 ,vaild acc:  0.781\n"
     ]
    },
    {
     "name": "stderr",
     "output_type": "stream",
     "text": [
      "100%|██████████| 782/782 [00:28<00:00, 27.35it/s]\n"
     ]
    },
    {
     "name": "stdout",
     "output_type": "stream",
     "text": [
      "epoch: 27 -----train loss : 0.4069 ,train acc:  0.8665,  valid loss : 0.7425 ,vaild acc:  0.7696\n"
     ]
    },
    {
     "name": "stderr",
     "output_type": "stream",
     "text": [
      "100%|██████████| 782/782 [00:28<00:00, 27.17it/s]\n"
     ]
    },
    {
     "name": "stdout",
     "output_type": "stream",
     "text": [
      "epoch: 28 -----train loss : 0.3217 ,train acc:  0.8988,  valid loss : 0.6849 ,vaild acc:  0.7831\n"
     ]
    },
    {
     "name": "stderr",
     "output_type": "stream",
     "text": [
      "100%|██████████| 782/782 [00:28<00:00, 27.05it/s]\n"
     ]
    },
    {
     "name": "stdout",
     "output_type": "stream",
     "text": [
      "epoch: 29 -----train loss : 0.3456 ,train acc:  0.8903,  valid loss : 0.6991 ,vaild acc:  0.7789\n"
     ]
    },
    {
     "name": "stderr",
     "output_type": "stream",
     "text": [
      "100%|██████████| 782/782 [00:27<00:00, 28.61it/s]\n"
     ]
    },
    {
     "name": "stdout",
     "output_type": "stream",
     "text": [
      "epoch: 30 -----train loss : 0.3228 ,train acc:  0.8985,  valid loss : 0.7086 ,vaild acc:  0.7852\n",
      "-------------------------------\n",
      "Training Results at best validation loss\n",
      "train loss : 0.3635 ,train acc:  0.8866,  valid loss : 0.6798 ,vaild acc:  0.7827\n"
     ]
    }
   ],
   "source": [
    "model = FinalLayer_MIXUP_CIFAR10(X_train,Y_train, X_train_eval, Y_train_eval, X_test,Y_test, alpha=0.2)\n",
    "result_dict[\"fin_0.2\"] = model.train()"
   ]
  },
  {
   "cell_type": "code",
   "execution_count": 15,
   "metadata": {
    "scrolled": true
   },
   "outputs": [
    {
     "name": "stdout",
     "output_type": "stream",
     "text": [
      "Model: \"fin_layer__mixup__resnet_2\"\n",
      "_________________________________________________________________\n",
      "Layer (type)                 Output Shape              Param #   \n",
      "=================================================================\n",
      "ResNet18 (ResnetBuilder)     (None, 512)               9782720   \n",
      "_________________________________________________________________\n",
      "mix_up_2 (MixUp)             (None, 512)               0         \n",
      "_________________________________________________________________\n",
      "dense_2 (Dense)              (None, 10)                5130      \n",
      "=================================================================\n",
      "Total params: 9,787,850\n",
      "Trainable params: 9,779,914\n",
      "Non-trainable params: 7,936\n",
      "_________________________________________________________________\n",
      "First_evaluation\n",
      "157/157 [==============================] - 6s 36ms/step - loss: 8.3900 - accuracy: 0.1019\n",
      "157/157 [==============================] - 3s 17ms/step - loss: 8.5395 - accuracy: 0.0953\n",
      "epoch: 0 -----train loss : 8.39 ,train acc:  0.1019,  valid loss : 8.5395 ,vaild acc:  0.0953\n",
      "train sample\n",
      "tf.Tensor(\n",
      "[[0.         0.         0.         0.         0.         0.\n",
      "  0.         0.77922237 0.         0.22077763]\n",
      " [0.04379219 0.         0.9562078  0.         0.         0.\n",
      "  0.         0.         0.         0.        ]\n",
      " [0.         0.         0.         0.27258682 0.         0.7274132\n",
      "  0.         0.         0.         0.        ]\n",
      " [0.         0.8549316  0.         0.         0.         0.\n",
      "  0.         0.         0.         0.1450684 ]\n",
      " [0.         0.4798939  0.         0.         0.         0.\n",
      "  0.5201061  0.         0.         0.        ]], shape=(5, 10), dtype=float32)\n",
      "\n",
      "train-eval sample\n",
      "tf.Tensor(\n",
      "[[0. 0. 0. 1. 0. 0. 0. 0. 0. 0.]\n",
      " [0. 0. 0. 0. 0. 1. 0. 0. 0. 0.]\n",
      " [0. 0. 0. 0. 0. 0. 0. 0. 0. 1.]\n",
      " [0. 0. 0. 0. 1. 0. 0. 0. 0. 0.]\n",
      " [0. 0. 0. 0. 0. 0. 0. 1. 0. 0.]], shape=(5, 10), dtype=float32)\n",
      "\n",
      "test sample\n",
      "tf.Tensor(\n",
      "[[0. 0. 0. 1. 0. 0. 0. 0. 0. 0.]\n",
      " [0. 0. 0. 0. 0. 0. 0. 0. 1. 0.]\n",
      " [0. 0. 0. 0. 0. 0. 0. 0. 1. 0.]\n",
      " [1. 0. 0. 0. 0. 0. 0. 0. 0. 0.]\n",
      " [0. 0. 0. 0. 0. 0. 1. 0. 0. 0.]], shape=(5, 10), dtype=float32)\n",
      "\n"
     ]
    },
    {
     "name": "stderr",
     "output_type": "stream",
     "text": [
      "\r",
      "  0%|          | 0/782 [00:00<?, ?it/s]"
     ]
    },
    {
     "name": "stdout",
     "output_type": "stream",
     "text": [
      "batch num  782\n"
     ]
    },
    {
     "name": "stderr",
     "output_type": "stream",
     "text": [
      "100%|██████████| 782/782 [00:39<00:00,  3.22it/s]\n"
     ]
    },
    {
     "name": "stdout",
     "output_type": "stream",
     "text": [
      "epoch: 1 -----train loss : 1.3856 ,train acc:  0.5129,  valid loss : 1.3858 ,vaild acc:  0.5183     loss improved!\n"
     ]
    },
    {
     "name": "stderr",
     "output_type": "stream",
     "text": [
      "100%|██████████| 782/782 [00:28<00:00, 27.25it/s]\n"
     ]
    },
    {
     "name": "stdout",
     "output_type": "stream",
     "text": [
      "epoch: 2 -----train loss : 1.1656 ,train acc:  0.5924,  valid loss : 1.1667 ,vaild acc:  0.5989     loss improved!\n"
     ]
    },
    {
     "name": "stderr",
     "output_type": "stream",
     "text": [
      "100%|██████████| 782/782 [00:29<00:00, 26.94it/s]\n"
     ]
    },
    {
     "name": "stdout",
     "output_type": "stream",
     "text": [
      "epoch: 3 -----train loss : 1.0316 ,train acc:  0.6398,  valid loss : 1.0821 ,vaild acc:  0.6216     loss improved!\n"
     ]
    },
    {
     "name": "stderr",
     "output_type": "stream",
     "text": [
      "100%|██████████| 782/782 [00:27<00:00, 28.56it/s]\n"
     ]
    },
    {
     "name": "stdout",
     "output_type": "stream",
     "text": [
      "epoch: 4 -----train loss : 0.9382 ,train acc:  0.6767,  valid loss : 1.0101 ,vaild acc:  0.6558     loss improved!\n"
     ]
    },
    {
     "name": "stderr",
     "output_type": "stream",
     "text": [
      "100%|██████████| 782/782 [00:28<00:00, 27.29it/s]\n"
     ]
    },
    {
     "name": "stdout",
     "output_type": "stream",
     "text": [
      "epoch: 5 -----train loss : 0.8681 ,train acc:  0.7075,  valid loss : 0.9394 ,vaild acc:  0.6821     loss improved!\n"
     ]
    },
    {
     "name": "stderr",
     "output_type": "stream",
     "text": [
      "100%|██████████| 782/782 [00:27<00:00, 28.29it/s]\n"
     ]
    },
    {
     "name": "stdout",
     "output_type": "stream",
     "text": [
      "epoch: 6 -----train loss : 0.8691 ,train acc:  0.7113,  valid loss : 0.9401 ,vaild acc:  0.686\n"
     ]
    },
    {
     "name": "stderr",
     "output_type": "stream",
     "text": [
      "100%|██████████| 782/782 [00:27<00:00, 32.15it/s]\n"
     ]
    },
    {
     "name": "stdout",
     "output_type": "stream",
     "text": [
      "epoch: 7 -----train loss : 0.813 ,train acc:  0.7279,  valid loss : 0.8877 ,vaild acc:  0.7029     loss improved!\n"
     ]
    },
    {
     "name": "stderr",
     "output_type": "stream",
     "text": [
      "100%|██████████| 782/782 [00:28<00:00, 27.19it/s]\n"
     ]
    },
    {
     "name": "stdout",
     "output_type": "stream",
     "text": [
      "epoch: 8 -----train loss : 0.7225 ,train acc:  0.7566,  valid loss : 0.8162 ,vaild acc:  0.7224     loss improved!\n"
     ]
    },
    {
     "name": "stderr",
     "output_type": "stream",
     "text": [
      "100%|██████████| 782/782 [00:28<00:00, 31.51it/s]\n"
     ]
    },
    {
     "name": "stdout",
     "output_type": "stream",
     "text": [
      "epoch: 9 -----train loss : 0.7108 ,train acc:  0.7692,  valid loss : 0.804 ,vaild acc:  0.7384     loss improved!\n"
     ]
    },
    {
     "name": "stderr",
     "output_type": "stream",
     "text": [
      "100%|██████████| 782/782 [00:28<00:00, 27.79it/s]\n"
     ]
    },
    {
     "name": "stdout",
     "output_type": "stream",
     "text": [
      "epoch: 10 -----train loss : 0.7089 ,train acc:  0.7689,  valid loss : 0.835 ,vaild acc:  0.7331\n"
     ]
    },
    {
     "name": "stderr",
     "output_type": "stream",
     "text": [
      "100%|██████████| 782/782 [00:28<00:00, 27.24it/s]\n"
     ]
    },
    {
     "name": "stdout",
     "output_type": "stream",
     "text": [
      "epoch: 11 -----train loss : 0.678 ,train acc:  0.7769,  valid loss : 0.7969 ,vaild acc:  0.7397     loss improved!\n"
     ]
    },
    {
     "name": "stderr",
     "output_type": "stream",
     "text": [
      "100%|██████████| 782/782 [00:27<00:00, 28.80it/s]\n"
     ]
    },
    {
     "name": "stdout",
     "output_type": "stream",
     "text": [
      "epoch: 12 -----train loss : 0.6396 ,train acc:  0.7897,  valid loss : 0.7927 ,vaild acc:  0.7423     loss improved!\n"
     ]
    },
    {
     "name": "stderr",
     "output_type": "stream",
     "text": [
      "100%|██████████| 782/782 [00:29<00:00, 29.17it/s]\n"
     ]
    },
    {
     "name": "stdout",
     "output_type": "stream",
     "text": [
      "epoch: 13 -----train loss : 0.5987 ,train acc:  0.8086,  valid loss : 0.7484 ,vaild acc:  0.7563     loss improved!\n"
     ]
    },
    {
     "name": "stderr",
     "output_type": "stream",
     "text": [
      "100%|██████████| 782/782 [00:27<00:00, 28.26it/s]\n"
     ]
    },
    {
     "name": "stdout",
     "output_type": "stream",
     "text": [
      "epoch: 14 -----train loss : 0.57 ,train acc:  0.818,  valid loss : 0.7477 ,vaild acc:  0.7557     loss improved!\n"
     ]
    },
    {
     "name": "stderr",
     "output_type": "stream",
     "text": [
      "100%|██████████| 782/782 [00:27<00:00, 28.76it/s]\n"
     ]
    },
    {
     "name": "stdout",
     "output_type": "stream",
     "text": [
      "epoch: 15 -----train loss : 0.5393 ,train acc:  0.8257,  valid loss : 0.7464 ,vaild acc:  0.7602     loss improved!\n"
     ]
    },
    {
     "name": "stderr",
     "output_type": "stream",
     "text": [
      "100%|██████████| 782/782 [00:29<00:00, 26.94it/s]\n"
     ]
    },
    {
     "name": "stdout",
     "output_type": "stream",
     "text": [
      "epoch: 16 -----train loss : 0.512 ,train acc:  0.8371,  valid loss : 0.7258 ,vaild acc:  0.7688     loss improved!\n"
     ]
    },
    {
     "name": "stderr",
     "output_type": "stream",
     "text": [
      "100%|██████████| 782/782 [00:28<00:00, 27.73it/s]\n"
     ]
    },
    {
     "name": "stdout",
     "output_type": "stream",
     "text": [
      "epoch: 17 -----train loss : 0.4877 ,train acc:  0.8449,  valid loss : 0.7064 ,vaild acc:  0.7712     loss improved!\n"
     ]
    },
    {
     "name": "stderr",
     "output_type": "stream",
     "text": [
      "100%|██████████| 782/782 [00:27<00:00, 28.04it/s]\n"
     ]
    },
    {
     "name": "stdout",
     "output_type": "stream",
     "text": [
      "epoch: 18 -----train loss : 0.4733 ,train acc:  0.8493,  valid loss : 0.7443 ,vaild acc:  0.7637\n"
     ]
    },
    {
     "name": "stderr",
     "output_type": "stream",
     "text": [
      "100%|██████████| 782/782 [00:28<00:00, 32.09it/s]\n"
     ]
    },
    {
     "name": "stdout",
     "output_type": "stream",
     "text": [
      "epoch: 19 -----train loss : 0.4906 ,train acc:  0.8477,  valid loss : 0.7346 ,vaild acc:  0.7747\n"
     ]
    },
    {
     "name": "stderr",
     "output_type": "stream",
     "text": [
      "100%|██████████| 782/782 [00:27<00:00, 28.06it/s]\n"
     ]
    },
    {
     "name": "stdout",
     "output_type": "stream",
     "text": [
      "epoch: 20 -----train loss : 0.4314 ,train acc:  0.8664,  valid loss : 0.6888 ,vaild acc:  0.7806     loss improved!\n"
     ]
    },
    {
     "name": "stderr",
     "output_type": "stream",
     "text": [
      "100%|██████████| 782/782 [00:29<00:00, 30.24it/s]\n"
     ]
    },
    {
     "name": "stdout",
     "output_type": "stream",
     "text": [
      "epoch: 21 -----train loss : 0.4306 ,train acc:  0.8651,  valid loss : 0.7072 ,vaild acc:  0.7753\n"
     ]
    },
    {
     "name": "stderr",
     "output_type": "stream",
     "text": [
      "100%|██████████| 782/782 [00:28<00:00, 31.30it/s]\n"
     ]
    },
    {
     "name": "stdout",
     "output_type": "stream",
     "text": [
      "epoch: 22 -----train loss : 0.3961 ,train acc:  0.8788,  valid loss : 0.6801 ,vaild acc:  0.7834     loss improved!\n"
     ]
    },
    {
     "name": "stderr",
     "output_type": "stream",
     "text": [
      "100%|██████████| 782/782 [00:28<00:00, 27.55it/s]\n"
     ]
    },
    {
     "name": "stdout",
     "output_type": "stream",
     "text": [
      "epoch: 23 -----train loss : 0.3993 ,train acc:  0.8767,  valid loss : 0.6977 ,vaild acc:  0.7853\n"
     ]
    },
    {
     "name": "stderr",
     "output_type": "stream",
     "text": [
      "100%|██████████| 782/782 [00:28<00:00, 27.15it/s]\n"
     ]
    },
    {
     "name": "stdout",
     "output_type": "stream",
     "text": [
      "epoch: 24 -----train loss : 0.388 ,train acc:  0.8792,  valid loss : 0.7257 ,vaild acc:  0.7749\n"
     ]
    },
    {
     "name": "stderr",
     "output_type": "stream",
     "text": [
      "100%|██████████| 782/782 [00:28<00:00, 27.25it/s]\n"
     ]
    },
    {
     "name": "stdout",
     "output_type": "stream",
     "text": [
      "epoch: 25 -----train loss : 0.3804 ,train acc:  0.8848,  valid loss : 0.6826 ,vaild acc:  0.7879\n"
     ]
    },
    {
     "name": "stderr",
     "output_type": "stream",
     "text": [
      "100%|██████████| 782/782 [00:28<00:00, 27.39it/s]\n"
     ]
    },
    {
     "name": "stdout",
     "output_type": "stream",
     "text": [
      "epoch: 26 -----train loss : 0.3541 ,train acc:  0.8886,  valid loss : 0.6828 ,vaild acc:  0.7901\n"
     ]
    },
    {
     "name": "stderr",
     "output_type": "stream",
     "text": [
      "100%|██████████| 782/782 [00:28<00:00, 27.04it/s]\n"
     ]
    },
    {
     "name": "stdout",
     "output_type": "stream",
     "text": [
      "epoch: 27 -----train loss : 0.3295 ,train acc:  0.9013,  valid loss : 0.6919 ,vaild acc:  0.7855\n"
     ]
    },
    {
     "name": "stderr",
     "output_type": "stream",
     "text": [
      "100%|██████████| 782/782 [00:27<00:00, 31.43it/s]\n"
     ]
    },
    {
     "name": "stdout",
     "output_type": "stream",
     "text": [
      "epoch: 28 -----train loss : 0.334 ,train acc:  0.8971,  valid loss : 0.7042 ,vaild acc:  0.7869\n",
      "-------------------------------\n",
      "Training Results at best validation loss\n",
      "train loss : 0.3961 ,train acc:  0.8788,  valid loss : 0.6801 ,vaild acc:  0.7834\n"
     ]
    }
   ],
   "source": [
    "model = FinalLayer_MIXUP_CIFAR10(X_train,Y_train, X_train_eval, Y_train_eval, X_test,Y_test, alpha=1.0)\n",
    "result_dict[\"fin_1.0\"] = model.train()"
   ]
  },
  {
   "cell_type": "code",
   "execution_count": 16,
   "metadata": {
    "scrolled": true
   },
   "outputs": [
    {
     "name": "stdout",
     "output_type": "stream",
     "text": [
      "Model: \"fin_layer__mixup__resnet_3\"\n",
      "_________________________________________________________________\n",
      "Layer (type)                 Output Shape              Param #   \n",
      "=================================================================\n",
      "ResNet18 (ResnetBuilder)     (None, 512)               9782720   \n",
      "_________________________________________________________________\n",
      "mix_up_3 (MixUp)             (None, 512)               0         \n",
      "_________________________________________________________________\n",
      "dense_3 (Dense)              (None, 10)                5130      \n",
      "=================================================================\n",
      "Total params: 9,787,850\n",
      "Trainable params: 9,779,914\n",
      "Non-trainable params: 7,936\n",
      "_________________________________________________________________\n",
      "First_evaluation\n",
      "157/157 [==============================] - 6s 37ms/step - loss: 12.0774 - accuracy: 0.0905\n",
      "157/157 [==============================] - 3s 18ms/step - loss: 12.1259 - accuracy: 0.0859\n",
      "epoch: 0 -----train loss : 12.0774 ,train acc:  0.0905,  valid loss : 12.1259 ,vaild acc:  0.0859\n",
      "train sample\n",
      "tf.Tensor(\n",
      "[[0.34955293 0.         0.         0.         0.         0.\n",
      "  0.         0.6504471  0.         0.        ]\n",
      " [0.         0.         0.         0.         0.         0.\n",
      "  0.         0.28819263 0.71180737 0.        ]\n",
      " [0.         0.3517533  0.         0.6482467  0.         0.\n",
      "  0.         0.         0.         0.        ]\n",
      " [0.         0.2837788  0.         0.         0.         0.\n",
      "  0.7162212  0.         0.         0.        ]\n",
      " [0.         0.31454515 0.         0.         0.         0.\n",
      "  0.         0.68545485 0.         0.        ]], shape=(5, 10), dtype=float32)\n",
      "\n",
      "train-eval sample\n",
      "tf.Tensor(\n",
      "[[0. 0. 0. 1. 0. 0. 0. 0. 0. 0.]\n",
      " [0. 0. 0. 0. 0. 1. 0. 0. 0. 0.]\n",
      " [0. 0. 0. 0. 0. 0. 0. 0. 0. 1.]\n",
      " [0. 0. 0. 0. 1. 0. 0. 0. 0. 0.]\n",
      " [0. 0. 0. 0. 0. 0. 0. 1. 0. 0.]], shape=(5, 10), dtype=float32)\n",
      "\n",
      "test sample\n",
      "tf.Tensor(\n",
      "[[0. 0. 0. 1. 0. 0. 0. 0. 0. 0.]\n",
      " [0. 0. 0. 0. 0. 0. 0. 0. 1. 0.]\n",
      " [0. 0. 0. 0. 0. 0. 0. 0. 1. 0.]\n",
      " [1. 0. 0. 0. 0. 0. 0. 0. 0. 0.]\n",
      " [0. 0. 0. 0. 0. 0. 1. 0. 0. 0.]], shape=(5, 10), dtype=float32)\n",
      "\n"
     ]
    },
    {
     "name": "stderr",
     "output_type": "stream",
     "text": [
      "\r",
      "  0%|          | 0/782 [00:00<?, ?it/s]"
     ]
    },
    {
     "name": "stdout",
     "output_type": "stream",
     "text": [
      "batch num  782\n"
     ]
    },
    {
     "name": "stderr",
     "output_type": "stream",
     "text": [
      "100%|██████████| 782/782 [00:40<00:00, 19.39it/s]\n"
     ]
    },
    {
     "name": "stdout",
     "output_type": "stream",
     "text": [
      "epoch: 1 -----train loss : 1.4256 ,train acc:  0.5123,  valid loss : 1.4235 ,vaild acc:  0.5074     loss improved!\n"
     ]
    },
    {
     "name": "stderr",
     "output_type": "stream",
     "text": [
      "100%|██████████| 782/782 [00:28<00:00, 15.41it/s]\n"
     ]
    },
    {
     "name": "stdout",
     "output_type": "stream",
     "text": [
      "epoch: 2 -----train loss : 1.128 ,train acc:  0.6058,  valid loss : 1.1456 ,vaild acc:  0.6056     loss improved!\n"
     ]
    },
    {
     "name": "stderr",
     "output_type": "stream",
     "text": [
      "100%|██████████| 782/782 [00:27<00:00, 28.26it/s]\n"
     ]
    },
    {
     "name": "stdout",
     "output_type": "stream",
     "text": [
      "epoch: 3 -----train loss : 1.0426 ,train acc:  0.6465,  valid loss : 1.0676 ,vaild acc:  0.642     loss improved!\n"
     ]
    },
    {
     "name": "stderr",
     "output_type": "stream",
     "text": [
      "100%|██████████| 782/782 [00:27<00:00, 28.39it/s]\n"
     ]
    },
    {
     "name": "stdout",
     "output_type": "stream",
     "text": [
      "epoch: 4 -----train loss : 1.0118 ,train acc:  0.6572,  valid loss : 1.078 ,vaild acc:  0.6424\n"
     ]
    },
    {
     "name": "stderr",
     "output_type": "stream",
     "text": [
      "100%|██████████| 782/782 [00:29<00:00, 29.86it/s]\n"
     ]
    },
    {
     "name": "stdout",
     "output_type": "stream",
     "text": [
      "epoch: 5 -----train loss : 0.868 ,train acc:  0.7124,  valid loss : 0.9494 ,vaild acc:  0.6845     loss improved!\n"
     ]
    },
    {
     "name": "stderr",
     "output_type": "stream",
     "text": [
      "100%|██████████| 782/782 [00:27<00:00, 32.01it/s]\n"
     ]
    },
    {
     "name": "stdout",
     "output_type": "stream",
     "text": [
      "epoch: 6 -----train loss : 0.8236 ,train acc:  0.7231,  valid loss : 0.8932 ,vaild acc:  0.7013     loss improved!\n"
     ]
    },
    {
     "name": "stderr",
     "output_type": "stream",
     "text": [
      "100%|██████████| 782/782 [00:27<00:00, 28.18it/s]\n"
     ]
    },
    {
     "name": "stdout",
     "output_type": "stream",
     "text": [
      "epoch: 7 -----train loss : 0.8086 ,train acc:  0.7402,  valid loss : 0.9135 ,vaild acc:  0.7127\n"
     ]
    },
    {
     "name": "stderr",
     "output_type": "stream",
     "text": [
      "100%|██████████| 782/782 [00:28<00:00, 27.09it/s]\n"
     ]
    },
    {
     "name": "stdout",
     "output_type": "stream",
     "text": [
      "epoch: 8 -----train loss : 0.74 ,train acc:  0.7616,  valid loss : 0.8424 ,vaild acc:  0.7273     loss improved!\n"
     ]
    },
    {
     "name": "stderr",
     "output_type": "stream",
     "text": [
      "100%|██████████| 782/782 [00:28<00:00, 27.92it/s]\n"
     ]
    },
    {
     "name": "stdout",
     "output_type": "stream",
     "text": [
      "epoch: 9 -----train loss : 0.6342 ,train acc:  0.7909,  valid loss : 0.779 ,vaild acc:  0.7451     loss improved!\n"
     ]
    },
    {
     "name": "stderr",
     "output_type": "stream",
     "text": [
      "100%|██████████| 782/782 [00:28<00:00, 27.30it/s]\n"
     ]
    },
    {
     "name": "stdout",
     "output_type": "stream",
     "text": [
      "epoch: 10 -----train loss : 0.6039 ,train acc:  0.8077,  valid loss : 0.7531 ,vaild acc:  0.7598     loss improved!\n"
     ]
    },
    {
     "name": "stderr",
     "output_type": "stream",
     "text": [
      "100%|██████████| 782/782 [00:28<00:00, 27.70it/s]\n"
     ]
    },
    {
     "name": "stdout",
     "output_type": "stream",
     "text": [
      "epoch: 11 -----train loss : 0.5988 ,train acc:  0.8107,  valid loss : 0.7722 ,vaild acc:  0.7563\n"
     ]
    },
    {
     "name": "stderr",
     "output_type": "stream",
     "text": [
      "100%|██████████| 782/782 [00:28<00:00, 27.40it/s]\n"
     ]
    },
    {
     "name": "stdout",
     "output_type": "stream",
     "text": [
      "epoch: 12 -----train loss : 0.5796 ,train acc:  0.8119,  valid loss : 0.7658 ,vaild acc:  0.7571\n"
     ]
    },
    {
     "name": "stderr",
     "output_type": "stream",
     "text": [
      "100%|██████████| 782/782 [00:28<00:00, 27.47it/s]\n"
     ]
    },
    {
     "name": "stdout",
     "output_type": "stream",
     "text": [
      "epoch: 13 -----train loss : 0.5712 ,train acc:  0.8189,  valid loss : 0.7885 ,vaild acc:  0.7591\n"
     ]
    },
    {
     "name": "stderr",
     "output_type": "stream",
     "text": [
      "100%|██████████| 782/782 [00:28<00:00, 27.80it/s]\n"
     ]
    },
    {
     "name": "stdout",
     "output_type": "stream",
     "text": [
      "epoch: 14 -----train loss : 0.5018 ,train acc:  0.8378,  valid loss : 0.7232 ,vaild acc:  0.7713     loss improved!\n"
     ]
    },
    {
     "name": "stderr",
     "output_type": "stream",
     "text": [
      "100%|██████████| 782/782 [00:29<00:00, 28.62it/s]\n"
     ]
    },
    {
     "name": "stdout",
     "output_type": "stream",
     "text": [
      "epoch: 15 -----train loss : 0.5138 ,train acc:  0.8395,  valid loss : 0.7625 ,vaild acc:  0.7687\n"
     ]
    },
    {
     "name": "stderr",
     "output_type": "stream",
     "text": [
      "100%|██████████| 782/782 [00:29<00:00, 26.92it/s]\n"
     ]
    },
    {
     "name": "stdout",
     "output_type": "stream",
     "text": [
      "epoch: 16 -----train loss : 0.474 ,train acc:  0.8501,  valid loss : 0.7157 ,vaild acc:  0.7791     loss improved!\n"
     ]
    },
    {
     "name": "stderr",
     "output_type": "stream",
     "text": [
      "100%|██████████| 782/782 [00:30<00:00, 27.29it/s]\n"
     ]
    },
    {
     "name": "stdout",
     "output_type": "stream",
     "text": [
      "epoch: 17 -----train loss : 0.4775 ,train acc:  0.8531,  valid loss : 0.7489 ,vaild acc:  0.7743\n"
     ]
    },
    {
     "name": "stderr",
     "output_type": "stream",
     "text": [
      "100%|██████████| 782/782 [00:28<00:00, 27.74it/s]\n"
     ]
    },
    {
     "name": "stdout",
     "output_type": "stream",
     "text": [
      "epoch: 18 -----train loss : 0.4341 ,train acc:  0.8612,  valid loss : 0.718 ,vaild acc:  0.7788\n"
     ]
    },
    {
     "name": "stderr",
     "output_type": "stream",
     "text": [
      "100%|██████████| 782/782 [00:27<00:00, 32.15it/s]\n"
     ]
    },
    {
     "name": "stdout",
     "output_type": "stream",
     "text": [
      "epoch: 19 -----train loss : 0.3814 ,train acc:  0.8819,  valid loss : 0.6952 ,vaild acc:  0.7887     loss improved!\n"
     ]
    },
    {
     "name": "stderr",
     "output_type": "stream",
     "text": [
      "100%|██████████| 782/782 [00:28<00:00, 27.26it/s]\n"
     ]
    },
    {
     "name": "stdout",
     "output_type": "stream",
     "text": [
      "epoch: 20 -----train loss : 0.3801 ,train acc:  0.8846,  valid loss : 0.6959 ,vaild acc:  0.7925\n"
     ]
    },
    {
     "name": "stderr",
     "output_type": "stream",
     "text": [
      "100%|██████████| 782/782 [00:28<00:00, 31.95it/s]\n"
     ]
    },
    {
     "name": "stdout",
     "output_type": "stream",
     "text": [
      "epoch: 21 -----train loss : 0.3448 ,train acc:  0.8932,  valid loss : 0.6942 ,vaild acc:  0.7902     loss improved!\n"
     ]
    },
    {
     "name": "stderr",
     "output_type": "stream",
     "text": [
      "100%|██████████| 782/782 [00:27<00:00, 31.84it/s]\n"
     ]
    },
    {
     "name": "stdout",
     "output_type": "stream",
     "text": [
      "epoch: 22 -----train loss : 0.3635 ,train acc:  0.8882,  valid loss : 0.7409 ,vaild acc:  0.784\n"
     ]
    },
    {
     "name": "stderr",
     "output_type": "stream",
     "text": [
      "100%|██████████| 782/782 [00:29<00:00, 30.96it/s]\n"
     ]
    },
    {
     "name": "stdout",
     "output_type": "stream",
     "text": [
      "epoch: 23 -----train loss : 0.3416 ,train acc:  0.895,  valid loss : 0.7142 ,vaild acc:  0.7897\n"
     ]
    },
    {
     "name": "stderr",
     "output_type": "stream",
     "text": [
      "100%|██████████| 782/782 [00:27<00:00, 27.94it/s]\n"
     ]
    },
    {
     "name": "stdout",
     "output_type": "stream",
     "text": [
      "epoch: 24 -----train loss : 0.3318 ,train acc:  0.8983,  valid loss : 0.6935 ,vaild acc:  0.7939     loss improved!\n"
     ]
    },
    {
     "name": "stderr",
     "output_type": "stream",
     "text": [
      "100%|██████████| 782/782 [00:28<00:00, 27.74it/s]\n"
     ]
    },
    {
     "name": "stdout",
     "output_type": "stream",
     "text": [
      "epoch: 25 -----train loss : 0.3047 ,train acc:  0.908,  valid loss : 0.6995 ,vaild acc:  0.7938\n"
     ]
    },
    {
     "name": "stderr",
     "output_type": "stream",
     "text": [
      "100%|██████████| 782/782 [00:28<00:00, 27.54it/s]\n"
     ]
    },
    {
     "name": "stdout",
     "output_type": "stream",
     "text": [
      "epoch: 26 -----train loss : 0.283 ,train acc:  0.914,  valid loss : 0.7014 ,vaild acc:  0.7975\n"
     ]
    },
    {
     "name": "stderr",
     "output_type": "stream",
     "text": [
      "100%|██████████| 782/782 [00:27<00:00, 28.36it/s]\n"
     ]
    },
    {
     "name": "stdout",
     "output_type": "stream",
     "text": [
      "epoch: 27 -----train loss : 0.2697 ,train acc:  0.9169,  valid loss : 0.6968 ,vaild acc:  0.7955\n"
     ]
    },
    {
     "name": "stderr",
     "output_type": "stream",
     "text": [
      "100%|██████████| 782/782 [00:27<00:00, 28.02it/s]\n"
     ]
    },
    {
     "name": "stdout",
     "output_type": "stream",
     "text": [
      "epoch: 28 -----train loss : 0.2507 ,train acc:  0.9261,  valid loss : 0.7074 ,vaild acc:  0.7989\n"
     ]
    },
    {
     "name": "stderr",
     "output_type": "stream",
     "text": [
      "100%|██████████| 782/782 [00:28<00:00, 27.70it/s]\n"
     ]
    },
    {
     "name": "stdout",
     "output_type": "stream",
     "text": [
      "epoch: 29 -----train loss : 0.2704 ,train acc:  0.9197,  valid loss : 0.7317 ,vaild acc:  0.7947\n"
     ]
    },
    {
     "name": "stderr",
     "output_type": "stream",
     "text": [
      "100%|██████████| 782/782 [00:28<00:00, 27.86it/s]\n"
     ]
    },
    {
     "name": "stdout",
     "output_type": "stream",
     "text": [
      "epoch: 30 -----train loss : 0.228 ,train acc:  0.9342,  valid loss : 0.7077 ,vaild acc:  0.7999\n",
      "-------------------------------\n",
      "Training Results at best validation loss\n",
      "train loss : 0.3318 ,train acc:  0.8983,  valid loss : 0.6935 ,vaild acc:  0.7939\n"
     ]
    }
   ],
   "source": [
    "model = FinalLayer_MIXUP_CIFAR10(X_train,Y_train, X_train_eval, Y_train_eval, X_test,Y_test, alpha=5.0)\n",
    "result_dict[\"fin_5.0\"] = model.train()"
   ]
  },
  {
   "cell_type": "markdown",
   "metadata": {},
   "source": [
    "# standard MIXUP ( mixup before model input) "
   ]
  },
  {
   "cell_type": "code",
   "execution_count": 17,
   "metadata": {},
   "outputs": [],
   "source": [
    "class Standard_MIXUP_CIFAR10(training_model):\n",
    "    def define_model(self):\n",
    "        self.mixup = True\n",
    "        return Standard_Mixup_Resnet()"
   ]
  },
  {
   "cell_type": "code",
   "execution_count": 18,
   "metadata": {
    "scrolled": true
   },
   "outputs": [
    {
     "name": "stdout",
     "output_type": "stream",
     "text": [
      "Model: \"standard__mixup__resnet\"\n",
      "_________________________________________________________________\n",
      "Layer (type)                 Output Shape              Param #   \n",
      "=================================================================\n",
      "ResNet18 (ResnetBuilder)     (None, 512)               9782720   \n",
      "_________________________________________________________________\n",
      "mix_up_4 (MixUp)             (None, 32, 32, 3)         0         \n",
      "_________________________________________________________________\n",
      "dense_4 (Dense)              (None, 10)                5130      \n",
      "=================================================================\n",
      "Total params: 9,787,850\n",
      "Trainable params: 9,779,914\n",
      "Non-trainable params: 7,936\n",
      "_________________________________________________________________\n",
      "First_evaluation\n",
      "157/157 [==============================] - 4s 24ms/step - loss: 12.1822 - accuracy: 0.0910\n",
      "157/157 [==============================] - 2s 14ms/step - loss: 12.1993 - accuracy: 0.0890\n",
      "epoch: 0 -----train loss : 12.1822 ,train acc:  0.091,  valid loss : 12.1993 ,vaild acc:  0.089\n",
      "train sample\n",
      "tf.Tensor(\n",
      "[[0.0000000e+00 0.0000000e+00 0.0000000e+00 0.0000000e+00 0.0000000e+00\n",
      "  0.0000000e+00 0.0000000e+00 0.0000000e+00 1.0000000e+00 0.0000000e+00]\n",
      " [0.0000000e+00 0.0000000e+00 0.0000000e+00 0.0000000e+00 0.0000000e+00\n",
      "  0.0000000e+00 0.0000000e+00 3.6529891e-19 0.0000000e+00 1.0000000e+00]\n",
      " [8.9755000e-34 0.0000000e+00 0.0000000e+00 0.0000000e+00 1.0000000e+00\n",
      "  0.0000000e+00 0.0000000e+00 0.0000000e+00 0.0000000e+00 0.0000000e+00]\n",
      " [0.0000000e+00 0.0000000e+00 0.0000000e+00 1.0000000e+00 0.0000000e+00\n",
      "  0.0000000e+00 0.0000000e+00 0.0000000e+00 0.0000000e+00 4.0051787e-31]\n",
      " [0.0000000e+00 0.0000000e+00 1.0000000e+00 0.0000000e+00 0.0000000e+00\n",
      "  0.0000000e+00 0.0000000e+00 0.0000000e+00 0.0000000e+00 0.0000000e+00]], shape=(5, 10), dtype=float32)\n",
      "\n",
      "train-eval sample\n",
      "tf.Tensor(\n",
      "[[0. 0. 0. 1. 0. 0. 0. 0. 0. 0.]\n",
      " [0. 0. 0. 0. 0. 1. 0. 0. 0. 0.]\n",
      " [0. 0. 0. 0. 0. 0. 0. 0. 0. 1.]\n",
      " [0. 0. 0. 0. 1. 0. 0. 0. 0. 0.]\n",
      " [0. 0. 0. 0. 0. 0. 0. 1. 0. 0.]], shape=(5, 10), dtype=float32)\n",
      "\n",
      "test sample\n",
      "tf.Tensor(\n",
      "[[0. 0. 0. 1. 0. 0. 0. 0. 0. 0.]\n",
      " [0. 0. 0. 0. 0. 0. 0. 0. 1. 0.]\n",
      " [0. 0. 0. 0. 0. 0. 0. 0. 1. 0.]\n",
      " [1. 0. 0. 0. 0. 0. 0. 0. 0. 0.]\n",
      " [0. 0. 0. 0. 0. 0. 1. 0. 0. 0.]], shape=(5, 10), dtype=float32)\n",
      "\n"
     ]
    },
    {
     "name": "stderr",
     "output_type": "stream",
     "text": [
      "\r",
      "  0%|          | 0/782 [00:00<?, ?it/s]"
     ]
    },
    {
     "name": "stdout",
     "output_type": "stream",
     "text": [
      "batch num  782\n"
     ]
    },
    {
     "name": "stderr",
     "output_type": "stream",
     "text": [
      "100%|██████████| 782/782 [00:24<00:00, 31.90it/s]\n"
     ]
    },
    {
     "name": "stdout",
     "output_type": "stream",
     "text": [
      "epoch: 1 -----train loss : 1.4018 ,train acc:  0.4973,  valid loss : 1.4257 ,vaild acc:  0.4865     loss improved!\n"
     ]
    },
    {
     "name": "stderr",
     "output_type": "stream",
     "text": [
      "100%|██████████| 782/782 [00:16<00:00, 48.33it/s]\n"
     ]
    },
    {
     "name": "stdout",
     "output_type": "stream",
     "text": [
      "epoch: 2 -----train loss : 1.156 ,train acc:  0.5898,  valid loss : 1.1743 ,vaild acc:  0.585     loss improved!\n"
     ]
    },
    {
     "name": "stderr",
     "output_type": "stream",
     "text": [
      "100%|██████████| 782/782 [00:16<00:00, 47.67it/s]\n"
     ]
    },
    {
     "name": "stdout",
     "output_type": "stream",
     "text": [
      "epoch: 3 -----train loss : 1.059 ,train acc:  0.6212,  valid loss : 1.099 ,vaild acc:  0.6113     loss improved!\n"
     ]
    },
    {
     "name": "stderr",
     "output_type": "stream",
     "text": [
      "100%|██████████| 782/782 [00:16<00:00, 47.47it/s]\n"
     ]
    },
    {
     "name": "stdout",
     "output_type": "stream",
     "text": [
      "epoch: 4 -----train loss : 1.0248 ,train acc:  0.6461,  valid loss : 1.0935 ,vaild acc:  0.6258     loss improved!\n"
     ]
    },
    {
     "name": "stderr",
     "output_type": "stream",
     "text": [
      "100%|██████████| 782/782 [00:16<00:00, 47.47it/s]\n"
     ]
    },
    {
     "name": "stdout",
     "output_type": "stream",
     "text": [
      "epoch: 5 -----train loss : 0.9148 ,train acc:  0.6807,  valid loss : 1.0019 ,vaild acc:  0.6563     loss improved!\n"
     ]
    },
    {
     "name": "stderr",
     "output_type": "stream",
     "text": [
      "100%|██████████| 782/782 [00:15<00:00, 50.81it/s]\n"
     ]
    },
    {
     "name": "stdout",
     "output_type": "stream",
     "text": [
      "epoch: 6 -----train loss : 0.8415 ,train acc:  0.7069,  valid loss : 0.9277 ,vaild acc:  0.6799     loss improved!\n"
     ]
    },
    {
     "name": "stderr",
     "output_type": "stream",
     "text": [
      "100%|██████████| 782/782 [00:15<00:00, 50.98it/s]\n"
     ]
    },
    {
     "name": "stdout",
     "output_type": "stream",
     "text": [
      "epoch: 7 -----train loss : 0.8547 ,train acc:  0.708,  valid loss : 0.9537 ,vaild acc:  0.6786\n"
     ]
    },
    {
     "name": "stderr",
     "output_type": "stream",
     "text": [
      "100%|██████████| 782/782 [00:15<00:00, 55.06it/s]\n"
     ]
    },
    {
     "name": "stdout",
     "output_type": "stream",
     "text": [
      "epoch: 8 -----train loss : 0.7705 ,train acc:  0.7369,  valid loss : 0.8755 ,vaild acc:  0.6999     loss improved!\n"
     ]
    },
    {
     "name": "stderr",
     "output_type": "stream",
     "text": [
      "100%|██████████| 782/782 [00:15<00:00, 50.34it/s]\n"
     ]
    },
    {
     "name": "stdout",
     "output_type": "stream",
     "text": [
      "epoch: 9 -----train loss : 0.7113 ,train acc:  0.756,  valid loss : 0.8205 ,vaild acc:  0.7203     loss improved!\n"
     ]
    },
    {
     "name": "stderr",
     "output_type": "stream",
     "text": [
      "100%|██████████| 782/782 [00:16<00:00, 48.31it/s]\n"
     ]
    },
    {
     "name": "stdout",
     "output_type": "stream",
     "text": [
      "epoch: 10 -----train loss : 0.6736 ,train acc:  0.771,  valid loss : 0.8023 ,vaild acc:  0.7296     loss improved!\n"
     ]
    },
    {
     "name": "stderr",
     "output_type": "stream",
     "text": [
      "100%|██████████| 782/782 [00:17<00:00, 45.62it/s]\n"
     ]
    },
    {
     "name": "stdout",
     "output_type": "stream",
     "text": [
      "epoch: 11 -----train loss : 0.6747 ,train acc:  0.771,  valid loss : 0.8204 ,vaild acc:  0.723\n"
     ]
    },
    {
     "name": "stderr",
     "output_type": "stream",
     "text": [
      "100%|██████████| 782/782 [00:16<00:00, 48.47it/s]\n"
     ]
    },
    {
     "name": "stdout",
     "output_type": "stream",
     "text": [
      "epoch: 12 -----train loss : 0.6423 ,train acc:  0.7811,  valid loss : 0.7923 ,vaild acc:  0.73     loss improved!\n"
     ]
    },
    {
     "name": "stderr",
     "output_type": "stream",
     "text": [
      "100%|██████████| 782/782 [00:15<00:00, 49.81it/s]\n"
     ]
    },
    {
     "name": "stdout",
     "output_type": "stream",
     "text": [
      "epoch: 13 -----train loss : 0.6498 ,train acc:  0.7794,  valid loss : 0.81 ,vaild acc:  0.7311\n"
     ]
    },
    {
     "name": "stderr",
     "output_type": "stream",
     "text": [
      "100%|██████████| 782/782 [00:15<00:00, 51.49it/s]\n"
     ]
    },
    {
     "name": "stdout",
     "output_type": "stream",
     "text": [
      "epoch: 14 -----train loss : 0.5904 ,train acc:  0.7996,  valid loss : 0.7729 ,vaild acc:  0.7409     loss improved!\n"
     ]
    },
    {
     "name": "stderr",
     "output_type": "stream",
     "text": [
      "100%|██████████| 782/782 [00:15<00:00, 54.69it/s]\n"
     ]
    },
    {
     "name": "stdout",
     "output_type": "stream",
     "text": [
      "epoch: 15 -----train loss : 0.5496 ,train acc:  0.8154,  valid loss : 0.7459 ,vaild acc:  0.7491     loss improved!\n"
     ]
    },
    {
     "name": "stderr",
     "output_type": "stream",
     "text": [
      "100%|██████████| 782/782 [00:15<00:00, 50.76it/s]\n"
     ]
    },
    {
     "name": "stdout",
     "output_type": "stream",
     "text": [
      "epoch: 16 -----train loss : 0.5394 ,train acc:  0.8186,  valid loss : 0.7389 ,vaild acc:  0.7511     loss improved!\n"
     ]
    },
    {
     "name": "stderr",
     "output_type": "stream",
     "text": [
      "100%|██████████| 782/782 [00:15<00:00, 51.62it/s]\n"
     ]
    },
    {
     "name": "stdout",
     "output_type": "stream",
     "text": [
      "epoch: 17 -----train loss : 0.5389 ,train acc:  0.8204,  valid loss : 0.7556 ,vaild acc:  0.7483\n"
     ]
    },
    {
     "name": "stderr",
     "output_type": "stream",
     "text": [
      "100%|██████████| 782/782 [00:16<00:00, 52.06it/s]\n"
     ]
    },
    {
     "name": "stdout",
     "output_type": "stream",
     "text": [
      "epoch: 18 -----train loss : 0.4833 ,train acc:  0.8398,  valid loss : 0.7185 ,vaild acc:  0.7662     loss improved!\n"
     ]
    },
    {
     "name": "stderr",
     "output_type": "stream",
     "text": [
      "100%|██████████| 782/782 [00:16<00:00, 46.62it/s]\n"
     ]
    },
    {
     "name": "stdout",
     "output_type": "stream",
     "text": [
      "epoch: 19 -----train loss : 0.5098 ,train acc:  0.827,  valid loss : 0.7609 ,vaild acc:  0.7531\n"
     ]
    },
    {
     "name": "stderr",
     "output_type": "stream",
     "text": [
      "100%|██████████| 782/782 [00:16<00:00, 47.53it/s]\n"
     ]
    },
    {
     "name": "stdout",
     "output_type": "stream",
     "text": [
      "epoch: 20 -----train loss : 0.4697 ,train acc:  0.841,  valid loss : 0.732 ,vaild acc:  0.7606\n"
     ]
    },
    {
     "name": "stderr",
     "output_type": "stream",
     "text": [
      "100%|██████████| 782/782 [00:15<00:00, 49.12it/s]\n"
     ]
    },
    {
     "name": "stdout",
     "output_type": "stream",
     "text": [
      "epoch: 21 -----train loss : 0.447 ,train acc:  0.852,  valid loss : 0.7229 ,vaild acc:  0.7642\n"
     ]
    },
    {
     "name": "stderr",
     "output_type": "stream",
     "text": [
      "100%|██████████| 782/782 [00:15<00:00, 51.74it/s]\n"
     ]
    },
    {
     "name": "stdout",
     "output_type": "stream",
     "text": [
      "epoch: 22 -----train loss : 0.4632 ,train acc:  0.8435,  valid loss : 0.7338 ,vaild acc:  0.7592\n"
     ]
    },
    {
     "name": "stderr",
     "output_type": "stream",
     "text": [
      "100%|██████████| 782/782 [00:15<00:00, 50.15it/s]\n"
     ]
    },
    {
     "name": "stdout",
     "output_type": "stream",
     "text": [
      "epoch: 23 -----train loss : 0.4571 ,train acc:  0.8476,  valid loss : 0.7273 ,vaild acc:  0.7613\n"
     ]
    },
    {
     "name": "stderr",
     "output_type": "stream",
     "text": [
      "100%|██████████| 782/782 [00:15<00:00, 51.92it/s]\n"
     ]
    },
    {
     "name": "stdout",
     "output_type": "stream",
     "text": [
      "epoch: 24 -----train loss : 0.4093 ,train acc:  0.8598,  valid loss : 0.7142 ,vaild acc:  0.7687     loss improved!\n"
     ]
    },
    {
     "name": "stderr",
     "output_type": "stream",
     "text": [
      "100%|██████████| 782/782 [00:15<00:00, 49.43it/s]\n"
     ]
    },
    {
     "name": "stdout",
     "output_type": "stream",
     "text": [
      "epoch: 25 -----train loss : 0.4044 ,train acc:  0.8675,  valid loss : 0.7147 ,vaild acc:  0.7701\n"
     ]
    },
    {
     "name": "stderr",
     "output_type": "stream",
     "text": [
      "100%|██████████| 782/782 [00:15<00:00, 50.11it/s]\n"
     ]
    },
    {
     "name": "stdout",
     "output_type": "stream",
     "text": [
      "epoch: 26 -----train loss : 0.3884 ,train acc:  0.8695,  valid loss : 0.7182 ,vaild acc:  0.7718\n"
     ]
    },
    {
     "name": "stderr",
     "output_type": "stream",
     "text": [
      "100%|██████████| 782/782 [00:16<00:00, 48.37it/s]\n"
     ]
    },
    {
     "name": "stdout",
     "output_type": "stream",
     "text": [
      "epoch: 27 -----train loss : 0.3896 ,train acc:  0.8673,  valid loss : 0.7244 ,vaild acc:  0.77\n"
     ]
    },
    {
     "name": "stderr",
     "output_type": "stream",
     "text": [
      "100%|██████████| 782/782 [00:16<00:00, 47.31it/s]\n"
     ]
    },
    {
     "name": "stdout",
     "output_type": "stream",
     "text": [
      "epoch: 28 -----train loss : 0.3564 ,train acc:  0.8829,  valid loss : 0.7001 ,vaild acc:  0.7799     loss improved!\n"
     ]
    },
    {
     "name": "stderr",
     "output_type": "stream",
     "text": [
      "100%|██████████| 782/782 [00:16<00:00, 47.98it/s]\n"
     ]
    },
    {
     "name": "stdout",
     "output_type": "stream",
     "text": [
      "epoch: 29 -----train loss : 0.3519 ,train acc:  0.8812,  valid loss : 0.7204 ,vaild acc:  0.7729\n"
     ]
    },
    {
     "name": "stderr",
     "output_type": "stream",
     "text": [
      "100%|██████████| 782/782 [00:16<00:00, 47.78it/s]\n"
     ]
    },
    {
     "name": "stdout",
     "output_type": "stream",
     "text": [
      "epoch: 30 -----train loss : 0.3709 ,train acc:  0.8793,  valid loss : 0.7285 ,vaild acc:  0.7687\n"
     ]
    },
    {
     "name": "stderr",
     "output_type": "stream",
     "text": [
      "100%|██████████| 782/782 [00:15<00:00, 49.06it/s]\n"
     ]
    },
    {
     "name": "stdout",
     "output_type": "stream",
     "text": [
      "epoch: 31 -----train loss : 0.3444 ,train acc:  0.8899,  valid loss : 0.7117 ,vaild acc:  0.7823\n"
     ]
    },
    {
     "name": "stderr",
     "output_type": "stream",
     "text": [
      "100%|██████████| 782/782 [00:15<00:00, 51.70it/s]\n"
     ]
    },
    {
     "name": "stdout",
     "output_type": "stream",
     "text": [
      "epoch: 32 -----train loss : 0.336 ,train acc:  0.8871,  valid loss : 0.7323 ,vaild acc:  0.7764\n"
     ]
    },
    {
     "name": "stderr",
     "output_type": "stream",
     "text": [
      "100%|██████████| 782/782 [00:15<00:00, 56.19it/s]\n"
     ]
    },
    {
     "name": "stdout",
     "output_type": "stream",
     "text": [
      "epoch: 33 -----train loss : 0.3174 ,train acc:  0.8978,  valid loss : 0.6962 ,vaild acc:  0.7823     loss improved!\n"
     ]
    },
    {
     "name": "stderr",
     "output_type": "stream",
     "text": [
      "100%|██████████| 782/782 [00:15<00:00, 57.07it/s]\n"
     ]
    },
    {
     "name": "stdout",
     "output_type": "stream",
     "text": [
      "epoch: 34 -----train loss : 0.3229 ,train acc:  0.8987,  valid loss : 0.7372 ,vaild acc:  0.7695\n"
     ]
    },
    {
     "name": "stderr",
     "output_type": "stream",
     "text": [
      "100%|██████████| 782/782 [00:15<00:00, 50.17it/s]\n"
     ]
    },
    {
     "name": "stdout",
     "output_type": "stream",
     "text": [
      "epoch: 35 -----train loss : 0.3006 ,train acc:  0.9022,  valid loss : 0.7298 ,vaild acc:  0.776\n"
     ]
    },
    {
     "name": "stderr",
     "output_type": "stream",
     "text": [
      "100%|██████████| 782/782 [00:15<00:00, 43.71it/s]\n"
     ]
    },
    {
     "name": "stdout",
     "output_type": "stream",
     "text": [
      "epoch: 36 -----train loss : 0.3023 ,train acc:  0.9038,  valid loss : 0.7303 ,vaild acc:  0.7717\n"
     ]
    },
    {
     "name": "stderr",
     "output_type": "stream",
     "text": [
      "100%|██████████| 782/782 [00:16<00:00, 52.65it/s]\n"
     ]
    },
    {
     "name": "stdout",
     "output_type": "stream",
     "text": [
      "epoch: 37 -----train loss : 0.2921 ,train acc:  0.9066,  valid loss : 0.7204 ,vaild acc:  0.7785\n"
     ]
    },
    {
     "name": "stderr",
     "output_type": "stream",
     "text": [
      "100%|██████████| 782/782 [00:16<00:00, 47.08it/s]\n"
     ]
    },
    {
     "name": "stdout",
     "output_type": "stream",
     "text": [
      "epoch: 38 -----train loss : 0.2718 ,train acc:  0.9125,  valid loss : 0.7388 ,vaild acc:  0.7816\n"
     ]
    },
    {
     "name": "stderr",
     "output_type": "stream",
     "text": [
      "100%|██████████| 782/782 [00:16<00:00, 57.15it/s]\n"
     ]
    },
    {
     "name": "stdout",
     "output_type": "stream",
     "text": [
      "epoch: 39 -----train loss : 0.2697 ,train acc:  0.9111,  valid loss : 0.7311 ,vaild acc:  0.7784\n",
      "-------------------------------\n",
      "Training Results at best validation loss\n",
      "train loss : 0.3174 ,train acc:  0.8978,  valid loss : 0.6962 ,vaild acc:  0.7823\n"
     ]
    }
   ],
   "source": [
    "model = Standard_MIXUP_CIFAR10(X_train,Y_train, X_train_eval, Y_train_eval, X_test,Y_test, alpha=0.04)\n",
    "result_dict[\"standard_0.04\"] = model.train()"
   ]
  },
  {
   "cell_type": "code",
   "execution_count": 19,
   "metadata": {
    "scrolled": true
   },
   "outputs": [
    {
     "name": "stdout",
     "output_type": "stream",
     "text": [
      "Model: \"standard__mixup__resnet_1\"\n",
      "_________________________________________________________________\n",
      "Layer (type)                 Output Shape              Param #   \n",
      "=================================================================\n",
      "ResNet18 (ResnetBuilder)     (None, 512)               9782720   \n",
      "_________________________________________________________________\n",
      "mix_up_5 (MixUp)             (None, 32, 32, 3)         0         \n",
      "_________________________________________________________________\n",
      "dense_5 (Dense)              (None, 10)                5130      \n",
      "=================================================================\n",
      "Total params: 9,787,850\n",
      "Trainable params: 9,779,914\n",
      "Non-trainable params: 7,936\n",
      "_________________________________________________________________\n",
      "First_evaluation\n",
      "157/157 [==============================] - 4s 24ms/step - loss: 9.8568 - accuracy: 0.0915\n",
      "157/157 [==============================] - 2s 14ms/step - loss: 9.8915 - accuracy: 0.0928\n",
      "epoch: 0 -----train loss : 9.8568 ,train acc:  0.0915,  valid loss : 9.8915 ,vaild acc:  0.0928\n",
      "train sample\n",
      "tf.Tensor(\n",
      "[[0.0000000e+00 0.0000000e+00 0.0000000e+00 0.0000000e+00 0.0000000e+00\n",
      "  0.0000000e+00 0.0000000e+00 9.9004215e-01 0.0000000e+00 9.9578518e-03]\n",
      " [0.0000000e+00 3.2424927e-05 0.0000000e+00 0.0000000e+00 9.9996758e-01\n",
      "  0.0000000e+00 0.0000000e+00 0.0000000e+00 0.0000000e+00 0.0000000e+00]\n",
      " [0.0000000e+00 0.0000000e+00 0.0000000e+00 0.0000000e+00 0.0000000e+00\n",
      "  0.0000000e+00 7.8280795e-01 2.1719208e-01 0.0000000e+00 0.0000000e+00]\n",
      " [0.0000000e+00 0.0000000e+00 0.0000000e+00 0.0000000e+00 0.0000000e+00\n",
      "  0.0000000e+00 0.0000000e+00 0.0000000e+00 0.0000000e+00 1.0000000e+00]\n",
      " [0.0000000e+00 0.0000000e+00 0.0000000e+00 0.0000000e+00 9.9938202e-01\n",
      "  0.0000000e+00 0.0000000e+00 6.1797630e-04 0.0000000e+00 0.0000000e+00]], shape=(5, 10), dtype=float32)\n",
      "\n",
      "train-eval sample\n",
      "tf.Tensor(\n",
      "[[0. 0. 0. 1. 0. 0. 0. 0. 0. 0.]\n",
      " [0. 0. 0. 0. 0. 1. 0. 0. 0. 0.]\n",
      " [0. 0. 0. 0. 0. 0. 0. 0. 0. 1.]\n",
      " [0. 0. 0. 0. 1. 0. 0. 0. 0. 0.]\n",
      " [0. 0. 0. 0. 0. 0. 0. 1. 0. 0.]], shape=(5, 10), dtype=float32)\n",
      "\n",
      "test sample\n",
      "tf.Tensor(\n",
      "[[0. 0. 0. 1. 0. 0. 0. 0. 0. 0.]\n",
      " [0. 0. 0. 0. 0. 0. 0. 0. 1. 0.]\n",
      " [0. 0. 0. 0. 0. 0. 0. 0. 1. 0.]\n",
      " [1. 0. 0. 0. 0. 0. 0. 0. 0. 0.]\n",
      " [0. 0. 0. 0. 0. 0. 1. 0. 0. 0.]], shape=(5, 10), dtype=float32)\n",
      "\n"
     ]
    },
    {
     "name": "stderr",
     "output_type": "stream",
     "text": [
      "\r",
      "  0%|          | 0/782 [00:00<?, ?it/s]"
     ]
    },
    {
     "name": "stdout",
     "output_type": "stream",
     "text": [
      "batch num  782\n"
     ]
    },
    {
     "name": "stderr",
     "output_type": "stream",
     "text": [
      "100%|██████████| 782/782 [00:23<00:00, 33.15it/s]\n"
     ]
    },
    {
     "name": "stdout",
     "output_type": "stream",
     "text": [
      "epoch: 1 -----train loss : 1.3337 ,train acc:  0.5237,  valid loss : 1.3309 ,vaild acc:  0.5243     loss improved!\n"
     ]
    },
    {
     "name": "stderr",
     "output_type": "stream",
     "text": [
      "100%|██████████| 782/782 [00:16<00:00, 48.30it/s]\n"
     ]
    },
    {
     "name": "stdout",
     "output_type": "stream",
     "text": [
      "epoch: 2 -----train loss : 1.1478 ,train acc:  0.5967,  valid loss : 1.1598 ,vaild acc:  0.5887     loss improved!\n"
     ]
    },
    {
     "name": "stderr",
     "output_type": "stream",
     "text": [
      "100%|██████████| 782/782 [00:15<00:00, 50.62it/s]\n"
     ]
    },
    {
     "name": "stdout",
     "output_type": "stream",
     "text": [
      "epoch: 3 -----train loss : 1.1106 ,train acc:  0.605,  valid loss : 1.1459 ,vaild acc:  0.5963     loss improved!\n"
     ]
    },
    {
     "name": "stderr",
     "output_type": "stream",
     "text": [
      "100%|██████████| 782/782 [00:15<00:00, 51.16it/s]\n"
     ]
    },
    {
     "name": "stdout",
     "output_type": "stream",
     "text": [
      "epoch: 4 -----train loss : 0.995 ,train acc:  0.6516,  valid loss : 1.0268 ,vaild acc:  0.6414     loss improved!\n"
     ]
    },
    {
     "name": "stderr",
     "output_type": "stream",
     "text": [
      "100%|██████████| 782/782 [00:15<00:00, 51.58it/s]\n"
     ]
    },
    {
     "name": "stdout",
     "output_type": "stream",
     "text": [
      "epoch: 5 -----train loss : 0.9342 ,train acc:  0.6775,  valid loss : 1.001 ,vaild acc:  0.6575     loss improved!\n"
     ]
    },
    {
     "name": "stderr",
     "output_type": "stream",
     "text": [
      "100%|██████████| 782/782 [00:15<00:00, 55.36it/s]\n"
     ]
    },
    {
     "name": "stdout",
     "output_type": "stream",
     "text": [
      "epoch: 6 -----train loss : 0.8907 ,train acc:  0.6923,  valid loss : 0.9584 ,vaild acc:  0.6761     loss improved!\n"
     ]
    },
    {
     "name": "stderr",
     "output_type": "stream",
     "text": [
      "100%|██████████| 782/782 [00:15<00:00, 49.45it/s]\n"
     ]
    },
    {
     "name": "stdout",
     "output_type": "stream",
     "text": [
      "epoch: 7 -----train loss : 0.8645 ,train acc:  0.7089,  valid loss : 0.9281 ,vaild acc:  0.6892     loss improved!\n"
     ]
    },
    {
     "name": "stderr",
     "output_type": "stream",
     "text": [
      "100%|██████████| 782/782 [00:16<00:00, 47.30it/s]\n"
     ]
    },
    {
     "name": "stdout",
     "output_type": "stream",
     "text": [
      "epoch: 8 -----train loss : 0.8629 ,train acc:  0.713,  valid loss : 0.9307 ,vaild acc:  0.6851\n"
     ]
    },
    {
     "name": "stderr",
     "output_type": "stream",
     "text": [
      "100%|██████████| 782/782 [00:16<00:00, 47.93it/s]\n"
     ]
    },
    {
     "name": "stdout",
     "output_type": "stream",
     "text": [
      "epoch: 9 -----train loss : 0.7929 ,train acc:  0.7363,  valid loss : 0.8851 ,vaild acc:  0.7029     loss improved!\n"
     ]
    },
    {
     "name": "stderr",
     "output_type": "stream",
     "text": [
      "100%|██████████| 782/782 [00:15<00:00, 49.65it/s]\n"
     ]
    },
    {
     "name": "stdout",
     "output_type": "stream",
     "text": [
      "epoch: 10 -----train loss : 0.7303 ,train acc:  0.7545,  valid loss : 0.8465 ,vaild acc:  0.7148     loss improved!\n"
     ]
    },
    {
     "name": "stderr",
     "output_type": "stream",
     "text": [
      "100%|██████████| 782/782 [00:15<00:00, 50.46it/s]\n"
     ]
    },
    {
     "name": "stdout",
     "output_type": "stream",
     "text": [
      "epoch: 11 -----train loss : 0.7404 ,train acc:  0.7509,  valid loss : 0.8637 ,vaild acc:  0.7136\n"
     ]
    },
    {
     "name": "stderr",
     "output_type": "stream",
     "text": [
      "100%|██████████| 782/782 [00:15<00:00, 51.61it/s]\n"
     ]
    },
    {
     "name": "stdout",
     "output_type": "stream",
     "text": [
      "epoch: 12 -----train loss : 0.675 ,train acc:  0.7782,  valid loss : 0.7929 ,vaild acc:  0.737     loss improved!\n"
     ]
    },
    {
     "name": "stderr",
     "output_type": "stream",
     "text": [
      "100%|██████████| 782/782 [00:15<00:00, 50.77it/s]\n"
     ]
    },
    {
     "name": "stdout",
     "output_type": "stream",
     "text": [
      "epoch: 13 -----train loss : 0.7084 ,train acc:  0.7697,  valid loss : 0.8377 ,vaild acc:  0.7205\n"
     ]
    },
    {
     "name": "stderr",
     "output_type": "stream",
     "text": [
      "100%|██████████| 782/782 [00:15<00:00, 51.48it/s]\n"
     ]
    },
    {
     "name": "stdout",
     "output_type": "stream",
     "text": [
      "epoch: 14 -----train loss : 0.6747 ,train acc:  0.7815,  valid loss : 0.8126 ,vaild acc:  0.7352\n"
     ]
    },
    {
     "name": "stderr",
     "output_type": "stream",
     "text": [
      "100%|██████████| 782/782 [00:16<00:00, 47.74it/s]\n"
     ]
    },
    {
     "name": "stdout",
     "output_type": "stream",
     "text": [
      "epoch: 15 -----train loss : 0.6191 ,train acc:  0.7957,  valid loss : 0.7776 ,vaild acc:  0.742     loss improved!\n"
     ]
    },
    {
     "name": "stderr",
     "output_type": "stream",
     "text": [
      "100%|██████████| 782/782 [00:16<00:00, 54.36it/s]\n"
     ]
    },
    {
     "name": "stdout",
     "output_type": "stream",
     "text": [
      "epoch: 16 -----train loss : 0.6058 ,train acc:  0.8069,  valid loss : 0.777 ,vaild acc:  0.7453     loss improved!\n"
     ]
    },
    {
     "name": "stderr",
     "output_type": "stream",
     "text": [
      "100%|██████████| 782/782 [00:16<00:00, 47.13it/s]\n"
     ]
    },
    {
     "name": "stdout",
     "output_type": "stream",
     "text": [
      "epoch: 17 -----train loss : 0.5828 ,train acc:  0.8189,  valid loss : 0.7519 ,vaild acc:  0.753     loss improved!\n"
     ]
    },
    {
     "name": "stderr",
     "output_type": "stream",
     "text": [
      "100%|██████████| 782/782 [00:15<00:00, 50.76it/s]\n"
     ]
    },
    {
     "name": "stdout",
     "output_type": "stream",
     "text": [
      "epoch: 18 -----train loss : 0.6009 ,train acc:  0.8088,  valid loss : 0.7644 ,vaild acc:  0.7541\n"
     ]
    },
    {
     "name": "stderr",
     "output_type": "stream",
     "text": [
      "100%|██████████| 782/782 [00:15<00:00, 51.30it/s]\n"
     ]
    },
    {
     "name": "stdout",
     "output_type": "stream",
     "text": [
      "epoch: 19 -----train loss : 0.5701 ,train acc:  0.8172,  valid loss : 0.7624 ,vaild acc:  0.7538\n"
     ]
    },
    {
     "name": "stderr",
     "output_type": "stream",
     "text": [
      "100%|██████████| 782/782 [00:15<00:00, 49.19it/s]\n"
     ]
    },
    {
     "name": "stdout",
     "output_type": "stream",
     "text": [
      "epoch: 20 -----train loss : 0.5503 ,train acc:  0.8225,  valid loss : 0.7379 ,vaild acc:  0.7576     loss improved!\n"
     ]
    },
    {
     "name": "stderr",
     "output_type": "stream",
     "text": [
      "100%|██████████| 782/782 [00:15<00:00, 57.53it/s]\n"
     ]
    },
    {
     "name": "stdout",
     "output_type": "stream",
     "text": [
      "epoch: 21 -----train loss : 0.5542 ,train acc:  0.8308,  valid loss : 0.7562 ,vaild acc:  0.7516\n"
     ]
    },
    {
     "name": "stderr",
     "output_type": "stream",
     "text": [
      "100%|██████████| 782/782 [00:16<00:00, 48.46it/s]\n"
     ]
    },
    {
     "name": "stdout",
     "output_type": "stream",
     "text": [
      "epoch: 22 -----train loss : 0.5069 ,train acc:  0.8389,  valid loss : 0.7436 ,vaild acc:  0.755\n"
     ]
    },
    {
     "name": "stderr",
     "output_type": "stream",
     "text": [
      "100%|██████████| 782/782 [00:16<00:00, 49.39it/s]\n"
     ]
    },
    {
     "name": "stdout",
     "output_type": "stream",
     "text": [
      "epoch: 23 -----train loss : 0.5157 ,train acc:  0.8391,  valid loss : 0.7521 ,vaild acc:  0.7582\n"
     ]
    },
    {
     "name": "stderr",
     "output_type": "stream",
     "text": [
      "100%|██████████| 782/782 [00:16<00:00, 46.41it/s]\n"
     ]
    },
    {
     "name": "stdout",
     "output_type": "stream",
     "text": [
      "epoch: 24 -----train loss : 0.5029 ,train acc:  0.849,  valid loss : 0.7367 ,vaild acc:  0.7624     loss improved!\n"
     ]
    },
    {
     "name": "stderr",
     "output_type": "stream",
     "text": [
      "100%|██████████| 782/782 [00:16<00:00, 48.07it/s]\n"
     ]
    },
    {
     "name": "stdout",
     "output_type": "stream",
     "text": [
      "epoch: 25 -----train loss : 0.4989 ,train acc:  0.8493,  valid loss : 0.7309 ,vaild acc:  0.7694     loss improved!\n"
     ]
    },
    {
     "name": "stderr",
     "output_type": "stream",
     "text": [
      "100%|██████████| 782/782 [00:15<00:00, 51.12it/s]\n"
     ]
    },
    {
     "name": "stdout",
     "output_type": "stream",
     "text": [
      "epoch: 26 -----train loss : 0.4891 ,train acc:  0.8465,  valid loss : 0.7235 ,vaild acc:  0.7693     loss improved!\n"
     ]
    },
    {
     "name": "stderr",
     "output_type": "stream",
     "text": [
      "100%|██████████| 782/782 [00:15<00:00, 52.10it/s]\n"
     ]
    },
    {
     "name": "stdout",
     "output_type": "stream",
     "text": [
      "epoch: 27 -----train loss : 0.4732 ,train acc:  0.8529,  valid loss : 0.7292 ,vaild acc:  0.7707\n"
     ]
    },
    {
     "name": "stderr",
     "output_type": "stream",
     "text": [
      "100%|██████████| 782/782 [00:15<00:00, 50.55it/s]\n"
     ]
    },
    {
     "name": "stdout",
     "output_type": "stream",
     "text": [
      "epoch: 28 -----train loss : 0.505 ,train acc:  0.8428,  valid loss : 0.7557 ,vaild acc:  0.7601\n"
     ]
    },
    {
     "name": "stderr",
     "output_type": "stream",
     "text": [
      "100%|██████████| 782/782 [00:15<00:00, 49.17it/s]\n"
     ]
    },
    {
     "name": "stdout",
     "output_type": "stream",
     "text": [
      "epoch: 29 -----train loss : 0.4424 ,train acc:  0.865,  valid loss : 0.6942 ,vaild acc:  0.7794     loss improved!\n"
     ]
    },
    {
     "name": "stderr",
     "output_type": "stream",
     "text": [
      "100%|██████████| 782/782 [00:15<00:00, 49.90it/s]\n"
     ]
    },
    {
     "name": "stdout",
     "output_type": "stream",
     "text": [
      "epoch: 30 -----train loss : 0.4217 ,train acc:  0.8716,  valid loss : 0.6914 ,vaild acc:  0.7794     loss improved!\n"
     ]
    },
    {
     "name": "stderr",
     "output_type": "stream",
     "text": [
      "100%|██████████| 782/782 [00:16<00:00, 46.34it/s]\n"
     ]
    },
    {
     "name": "stdout",
     "output_type": "stream",
     "text": [
      "epoch: 31 -----train loss : 0.4458 ,train acc:  0.8619,  valid loss : 0.7388 ,vaild acc:  0.7654\n"
     ]
    },
    {
     "name": "stderr",
     "output_type": "stream",
     "text": [
      "100%|██████████| 782/782 [00:17<00:00, 45.59it/s]\n"
     ]
    },
    {
     "name": "stdout",
     "output_type": "stream",
     "text": [
      "epoch: 32 -----train loss : 0.414 ,train acc:  0.8699,  valid loss : 0.7063 ,vaild acc:  0.7754\n"
     ]
    },
    {
     "name": "stderr",
     "output_type": "stream",
     "text": [
      "100%|██████████| 782/782 [00:16<00:00, 56.52it/s]\n"
     ]
    },
    {
     "name": "stdout",
     "output_type": "stream",
     "text": [
      "epoch: 33 -----train loss : 0.4356 ,train acc:  0.8693,  valid loss : 0.7292 ,vaild acc:  0.7707\n"
     ]
    },
    {
     "name": "stderr",
     "output_type": "stream",
     "text": [
      "100%|██████████| 782/782 [00:14<00:00, 58.93it/s]\n"
     ]
    },
    {
     "name": "stdout",
     "output_type": "stream",
     "text": [
      "epoch: 34 -----train loss : 0.3932 ,train acc:  0.8812,  valid loss : 0.7019 ,vaild acc:  0.7774\n"
     ]
    },
    {
     "name": "stderr",
     "output_type": "stream",
     "text": [
      "100%|██████████| 782/782 [00:15<00:00, 50.09it/s]\n"
     ]
    },
    {
     "name": "stdout",
     "output_type": "stream",
     "text": [
      "epoch: 35 -----train loss : 0.4034 ,train acc:  0.8801,  valid loss : 0.7138 ,vaild acc:  0.7764\n"
     ]
    },
    {
     "name": "stderr",
     "output_type": "stream",
     "text": [
      "100%|██████████| 782/782 [00:15<00:00, 52.13it/s]\n"
     ]
    },
    {
     "name": "stdout",
     "output_type": "stream",
     "text": [
      "epoch: 36 -----train loss : 0.3867 ,train acc:  0.8856,  valid loss : 0.7142 ,vaild acc:  0.774\n",
      "-------------------------------\n",
      "Training Results at best validation loss\n",
      "train loss : 0.4217 ,train acc:  0.8716,  valid loss : 0.6914 ,vaild acc:  0.7794\n"
     ]
    }
   ],
   "source": [
    "model = Standard_MIXUP_CIFAR10(X_train,Y_train, X_train_eval, Y_train_eval, X_test,Y_test, alpha=0.2)\n",
    "result_dict[\"standard_0.2\"] = model.train()"
   ]
  },
  {
   "cell_type": "code",
   "execution_count": 20,
   "metadata": {
    "scrolled": true
   },
   "outputs": [
    {
     "name": "stdout",
     "output_type": "stream",
     "text": [
      "Model: \"standard__mixup__resnet_2\"\n",
      "_________________________________________________________________\n",
      "Layer (type)                 Output Shape              Param #   \n",
      "=================================================================\n",
      "ResNet18 (ResnetBuilder)     (None, 512)               9782720   \n",
      "_________________________________________________________________\n",
      "mix_up_6 (MixUp)             (None, 32, 32, 3)         0         \n",
      "_________________________________________________________________\n",
      "dense_6 (Dense)              (None, 10)                5130      \n",
      "=================================================================\n",
      "Total params: 9,787,850\n",
      "Trainable params: 9,779,914\n",
      "Non-trainable params: 7,936\n",
      "_________________________________________________________________\n",
      "First_evaluation\n",
      "157/157 [==============================] - 4s 24ms/step - loss: 9.0987 - accuracy: 0.0870\n",
      "157/157 [==============================] - 3s 17ms/step - loss: 9.1527 - accuracy: 0.0862\n",
      "epoch: 0 -----train loss : 9.0987 ,train acc:  0.087,  valid loss : 9.1527 ,vaild acc:  0.0862\n",
      "train sample\n",
      "tf.Tensor(\n",
      "[[1.         0.         0.         0.         0.         0.\n",
      "  0.         0.         0.         0.        ]\n",
      " [1.         0.         0.         0.         0.         0.\n",
      "  0.         0.         0.         0.        ]\n",
      " [0.         0.         0.         0.         0.         0.57488453\n",
      "  0.         0.4251155  0.         0.        ]\n",
      " [0.725194   0.         0.         0.         0.         0.\n",
      "  0.         0.         0.         0.27480602]\n",
      " [0.         0.6358761  0.         0.         0.         0.\n",
      "  0.36412388 0.         0.         0.        ]], shape=(5, 10), dtype=float32)\n",
      "\n",
      "train-eval sample\n",
      "tf.Tensor(\n",
      "[[0. 0. 0. 1. 0. 0. 0. 0. 0. 0.]\n",
      " [0. 0. 0. 0. 0. 1. 0. 0. 0. 0.]\n",
      " [0. 0. 0. 0. 0. 0. 0. 0. 0. 1.]\n",
      " [0. 0. 0. 0. 1. 0. 0. 0. 0. 0.]\n",
      " [0. 0. 0. 0. 0. 0. 0. 1. 0. 0.]], shape=(5, 10), dtype=float32)\n",
      "\n",
      "test sample\n",
      "tf.Tensor(\n",
      "[[0. 0. 0. 1. 0. 0. 0. 0. 0. 0.]\n",
      " [0. 0. 0. 0. 0. 0. 0. 0. 1. 0.]\n",
      " [0. 0. 0. 0. 0. 0. 0. 0. 1. 0.]\n",
      " [1. 0. 0. 0. 0. 0. 0. 0. 0. 0.]\n",
      " [0. 0. 0. 0. 0. 0. 1. 0. 0. 0.]], shape=(5, 10), dtype=float32)\n",
      "\n"
     ]
    },
    {
     "name": "stderr",
     "output_type": "stream",
     "text": [
      "\r",
      "  0%|          | 0/782 [00:00<?, ?it/s]"
     ]
    },
    {
     "name": "stdout",
     "output_type": "stream",
     "text": [
      "batch num  782\n"
     ]
    },
    {
     "name": "stderr",
     "output_type": "stream",
     "text": [
      "100%|██████████| 782/782 [00:24<00:00, 31.36it/s]\n"
     ]
    },
    {
     "name": "stdout",
     "output_type": "stream",
     "text": [
      "epoch: 1 -----train loss : 1.417 ,train acc:  0.4926,  valid loss : 1.4137 ,vaild acc:  0.496     loss improved!\n"
     ]
    },
    {
     "name": "stderr",
     "output_type": "stream",
     "text": [
      "100%|██████████| 782/782 [00:16<00:00, 48.81it/s]\n"
     ]
    },
    {
     "name": "stdout",
     "output_type": "stream",
     "text": [
      "epoch: 2 -----train loss : 1.3275 ,train acc:  0.541,  valid loss : 1.3441 ,vaild acc:  0.5305     loss improved!\n"
     ]
    },
    {
     "name": "stderr",
     "output_type": "stream",
     "text": [
      "100%|██████████| 782/782 [00:16<00:00, 48.43it/s]\n"
     ]
    },
    {
     "name": "stdout",
     "output_type": "stream",
     "text": [
      "epoch: 3 -----train loss : 1.1848 ,train acc:  0.5975,  valid loss : 1.2037 ,vaild acc:  0.5871     loss improved!\n"
     ]
    },
    {
     "name": "stderr",
     "output_type": "stream",
     "text": [
      "100%|██████████| 782/782 [00:16<00:00, 57.22it/s]\n"
     ]
    },
    {
     "name": "stdout",
     "output_type": "stream",
     "text": [
      "epoch: 4 -----train loss : 1.1475 ,train acc:  0.615,  valid loss : 1.1701 ,vaild acc:  0.6016     loss improved!\n"
     ]
    },
    {
     "name": "stderr",
     "output_type": "stream",
     "text": [
      "100%|██████████| 782/782 [00:16<00:00, 57.16it/s]\n"
     ]
    },
    {
     "name": "stdout",
     "output_type": "stream",
     "text": [
      "epoch: 5 -----train loss : 1.1019 ,train acc:  0.6334,  valid loss : 1.1278 ,vaild acc:  0.6264     loss improved!\n"
     ]
    },
    {
     "name": "stderr",
     "output_type": "stream",
     "text": [
      "100%|██████████| 782/782 [00:14<00:00, 52.18it/s]\n"
     ]
    },
    {
     "name": "stdout",
     "output_type": "stream",
     "text": [
      "epoch: 6 -----train loss : 1.0183 ,train acc:  0.6596,  valid loss : 1.0545 ,vaild acc:  0.6452     loss improved!\n"
     ]
    },
    {
     "name": "stderr",
     "output_type": "stream",
     "text": [
      "100%|██████████| 782/782 [00:15<00:00, 55.04it/s]\n"
     ]
    },
    {
     "name": "stdout",
     "output_type": "stream",
     "text": [
      "epoch: 7 -----train loss : 1.0025 ,train acc:  0.6706,  valid loss : 1.0468 ,vaild acc:  0.6499     loss improved!\n"
     ]
    },
    {
     "name": "stderr",
     "output_type": "stream",
     "text": [
      "100%|██████████| 782/782 [00:20<00:00, 37.97it/s]\n"
     ]
    },
    {
     "name": "stdout",
     "output_type": "stream",
     "text": [
      "epoch: 8 -----train loss : 0.9421 ,train acc:  0.6982,  valid loss : 0.991 ,vaild acc:  0.6754     loss improved!\n"
     ]
    },
    {
     "name": "stderr",
     "output_type": "stream",
     "text": [
      "100%|██████████| 782/782 [00:20<00:00, 39.09it/s]\n"
     ]
    },
    {
     "name": "stdout",
     "output_type": "stream",
     "text": [
      "epoch: 9 -----train loss : 0.9618 ,train acc:  0.6832,  valid loss : 1.027 ,vaild acc:  0.6656\n"
     ]
    },
    {
     "name": "stderr",
     "output_type": "stream",
     "text": [
      "100%|██████████| 782/782 [00:20<00:00, 32.53it/s]\n"
     ]
    },
    {
     "name": "stdout",
     "output_type": "stream",
     "text": [
      "epoch: 10 -----train loss : 0.9209 ,train acc:  0.7129,  valid loss : 0.98 ,vaild acc:  0.6887     loss improved!\n"
     ]
    },
    {
     "name": "stderr",
     "output_type": "stream",
     "text": [
      "100%|██████████| 782/782 [00:16<00:00, 46.63it/s]\n"
     ]
    },
    {
     "name": "stdout",
     "output_type": "stream",
     "text": [
      "epoch: 11 -----train loss : 0.8924 ,train acc:  0.7223,  valid loss : 0.9548 ,vaild acc:  0.6944     loss improved!\n"
     ]
    },
    {
     "name": "stderr",
     "output_type": "stream",
     "text": [
      "100%|██████████| 782/782 [00:17<00:00, 44.22it/s]\n"
     ]
    },
    {
     "name": "stdout",
     "output_type": "stream",
     "text": [
      "epoch: 12 -----train loss : 0.8588 ,train acc:  0.7344,  valid loss : 0.9245 ,vaild acc:  0.7007     loss improved!\n"
     ]
    },
    {
     "name": "stderr",
     "output_type": "stream",
     "text": [
      "100%|██████████| 782/782 [00:16<00:00, 47.05it/s]\n"
     ]
    },
    {
     "name": "stdout",
     "output_type": "stream",
     "text": [
      "epoch: 13 -----train loss : 0.8372 ,train acc:  0.7383,  valid loss : 0.9203 ,vaild acc:  0.6981     loss improved!\n"
     ]
    },
    {
     "name": "stderr",
     "output_type": "stream",
     "text": [
      "100%|██████████| 782/782 [00:16<00:00, 48.42it/s]\n"
     ]
    },
    {
     "name": "stdout",
     "output_type": "stream",
     "text": [
      "epoch: 14 -----train loss : 0.8203 ,train acc:  0.7508,  valid loss : 0.9089 ,vaild acc:  0.7194     loss improved!\n"
     ]
    },
    {
     "name": "stderr",
     "output_type": "stream",
     "text": [
      "100%|██████████| 782/782 [00:16<00:00, 46.40it/s]\n"
     ]
    },
    {
     "name": "stdout",
     "output_type": "stream",
     "text": [
      "epoch: 15 -----train loss : 0.7826 ,train acc:  0.7621,  valid loss : 0.8646 ,vaild acc:  0.7295     loss improved!\n"
     ]
    },
    {
     "name": "stderr",
     "output_type": "stream",
     "text": [
      "100%|██████████| 782/782 [00:17<00:00, 45.97it/s]\n"
     ]
    },
    {
     "name": "stdout",
     "output_type": "stream",
     "text": [
      "epoch: 16 -----train loss : 0.811 ,train acc:  0.7527,  valid loss : 0.9025 ,vaild acc:  0.7213\n"
     ]
    },
    {
     "name": "stderr",
     "output_type": "stream",
     "text": [
      "100%|██████████| 782/782 [00:17<00:00, 45.69it/s]\n"
     ]
    },
    {
     "name": "stdout",
     "output_type": "stream",
     "text": [
      "epoch: 17 -----train loss : 0.7974 ,train acc:  0.76,  valid loss : 0.8911 ,vaild acc:  0.7228\n"
     ]
    },
    {
     "name": "stderr",
     "output_type": "stream",
     "text": [
      "100%|██████████| 782/782 [00:16<00:00, 46.55it/s]\n"
     ]
    },
    {
     "name": "stdout",
     "output_type": "stream",
     "text": [
      "epoch: 18 -----train loss : 0.7543 ,train acc:  0.7787,  valid loss : 0.8581 ,vaild acc:  0.7321     loss improved!\n"
     ]
    },
    {
     "name": "stderr",
     "output_type": "stream",
     "text": [
      "100%|██████████| 782/782 [00:16<00:00, 48.39it/s]\n"
     ]
    },
    {
     "name": "stdout",
     "output_type": "stream",
     "text": [
      "epoch: 19 -----train loss : 0.7485 ,train acc:  0.7883,  valid loss : 0.8456 ,vaild acc:  0.7448     loss improved!\n"
     ]
    },
    {
     "name": "stderr",
     "output_type": "stream",
     "text": [
      "100%|██████████| 782/782 [00:16<00:00, 27.63it/s]\n"
     ]
    },
    {
     "name": "stdout",
     "output_type": "stream",
     "text": [
      "epoch: 20 -----train loss : 0.7379 ,train acc:  0.7755,  valid loss : 0.8446 ,vaild acc:  0.7295     loss improved!\n"
     ]
    },
    {
     "name": "stderr",
     "output_type": "stream",
     "text": [
      "100%|██████████| 782/782 [00:17<00:00, 45.09it/s]\n"
     ]
    },
    {
     "name": "stdout",
     "output_type": "stream",
     "text": [
      "epoch: 21 -----train loss : 0.7644 ,train acc:  0.7725,  valid loss : 0.8675 ,vaild acc:  0.7273\n"
     ]
    },
    {
     "name": "stderr",
     "output_type": "stream",
     "text": [
      "100%|██████████| 782/782 [00:16<00:00, 46.89it/s]\n"
     ]
    },
    {
     "name": "stdout",
     "output_type": "stream",
     "text": [
      "epoch: 22 -----train loss : 0.7434 ,train acc:  0.7797,  valid loss : 0.8592 ,vaild acc:  0.7294\n"
     ]
    },
    {
     "name": "stderr",
     "output_type": "stream",
     "text": [
      "100%|██████████| 782/782 [00:16<00:00, 48.32it/s]\n"
     ]
    },
    {
     "name": "stdout",
     "output_type": "stream",
     "text": [
      "epoch: 23 -----train loss : 0.7059 ,train acc:  0.7906,  valid loss : 0.8205 ,vaild acc:  0.7423     loss improved!\n"
     ]
    },
    {
     "name": "stderr",
     "output_type": "stream",
     "text": [
      "100%|██████████| 782/782 [00:15<00:00, 50.52it/s]\n"
     ]
    },
    {
     "name": "stdout",
     "output_type": "stream",
     "text": [
      "epoch: 24 -----train loss : 0.6748 ,train acc:  0.8042,  valid loss : 0.8074 ,vaild acc:  0.7464     loss improved!\n"
     ]
    },
    {
     "name": "stderr",
     "output_type": "stream",
     "text": [
      "100%|██████████| 782/782 [00:15<00:00, 49.83it/s]\n"
     ]
    },
    {
     "name": "stdout",
     "output_type": "stream",
     "text": [
      "epoch: 25 -----train loss : 0.7085 ,train acc:  0.7994,  valid loss : 0.8313 ,vaild acc:  0.7473\n"
     ]
    },
    {
     "name": "stderr",
     "output_type": "stream",
     "text": [
      "100%|██████████| 782/782 [00:16<00:00, 47.90it/s]\n"
     ]
    },
    {
     "name": "stdout",
     "output_type": "stream",
     "text": [
      "epoch: 26 -----train loss : 0.6591 ,train acc:  0.8144,  valid loss : 0.792 ,vaild acc:  0.7581     loss improved!\n"
     ]
    },
    {
     "name": "stderr",
     "output_type": "stream",
     "text": [
      "100%|██████████| 782/782 [00:17<00:00, 44.95it/s]\n"
     ]
    },
    {
     "name": "stdout",
     "output_type": "stream",
     "text": [
      "epoch: 27 -----train loss : 0.6326 ,train acc:  0.8232,  valid loss : 0.7885 ,vaild acc:  0.7574     loss improved!\n"
     ]
    },
    {
     "name": "stderr",
     "output_type": "stream",
     "text": [
      "100%|██████████| 782/782 [00:16<00:00, 46.76it/s]\n"
     ]
    },
    {
     "name": "stdout",
     "output_type": "stream",
     "text": [
      "epoch: 28 -----train loss : 0.672 ,train acc:  0.8146,  valid loss : 0.8274 ,vaild acc:  0.7493\n"
     ]
    },
    {
     "name": "stderr",
     "output_type": "stream",
     "text": [
      "100%|██████████| 782/782 [00:15<00:00, 55.61it/s]\n"
     ]
    },
    {
     "name": "stdout",
     "output_type": "stream",
     "text": [
      "epoch: 29 -----train loss : 0.6489 ,train acc:  0.8226,  valid loss : 0.804 ,vaild acc:  0.7533\n"
     ]
    },
    {
     "name": "stderr",
     "output_type": "stream",
     "text": [
      "100%|██████████| 782/782 [00:15<00:00, 55.00it/s]\n"
     ]
    },
    {
     "name": "stdout",
     "output_type": "stream",
     "text": [
      "epoch: 30 -----train loss : 0.6549 ,train acc:  0.8165,  valid loss : 0.8094 ,vaild acc:  0.7537\n"
     ]
    },
    {
     "name": "stderr",
     "output_type": "stream",
     "text": [
      "100%|██████████| 782/782 [00:15<00:00, 49.48it/s]\n"
     ]
    },
    {
     "name": "stdout",
     "output_type": "stream",
     "text": [
      "epoch: 31 -----train loss : 0.5966 ,train acc:  0.8332,  valid loss : 0.7717 ,vaild acc:  0.7628     loss improved!\n"
     ]
    },
    {
     "name": "stderr",
     "output_type": "stream",
     "text": [
      "100%|██████████| 782/782 [00:16<00:00, 48.80it/s]\n"
     ]
    },
    {
     "name": "stdout",
     "output_type": "stream",
     "text": [
      "epoch: 32 -----train loss : 0.6079 ,train acc:  0.8289,  valid loss : 0.7748 ,vaild acc:  0.7647\n"
     ]
    },
    {
     "name": "stderr",
     "output_type": "stream",
     "text": [
      "100%|██████████| 782/782 [00:17<00:00, 45.50it/s]\n"
     ]
    },
    {
     "name": "stdout",
     "output_type": "stream",
     "text": [
      "epoch: 33 -----train loss : 0.6107 ,train acc:  0.8317,  valid loss : 0.7803 ,vaild acc:  0.7598\n"
     ]
    },
    {
     "name": "stderr",
     "output_type": "stream",
     "text": [
      "100%|██████████| 782/782 [00:16<00:00, 46.43it/s]\n"
     ]
    },
    {
     "name": "stdout",
     "output_type": "stream",
     "text": [
      "epoch: 34 -----train loss : 0.6268 ,train acc:  0.8267,  valid loss : 0.8006 ,vaild acc:  0.7547\n"
     ]
    },
    {
     "name": "stderr",
     "output_type": "stream",
     "text": [
      "100%|██████████| 782/782 [00:16<00:00, 47.23it/s]\n"
     ]
    },
    {
     "name": "stdout",
     "output_type": "stream",
     "text": [
      "epoch: 35 -----train loss : 0.58 ,train acc:  0.8425,  valid loss : 0.7504 ,vaild acc:  0.7685     loss improved!\n"
     ]
    },
    {
     "name": "stderr",
     "output_type": "stream",
     "text": [
      "100%|██████████| 782/782 [00:15<00:00, 50.60it/s]\n"
     ]
    },
    {
     "name": "stdout",
     "output_type": "stream",
     "text": [
      "epoch: 36 -----train loss : 0.5968 ,train acc:  0.839,  valid loss : 0.7657 ,vaild acc:  0.7695\n"
     ]
    },
    {
     "name": "stderr",
     "output_type": "stream",
     "text": [
      "100%|██████████| 782/782 [00:16<00:00, 47.40it/s]\n"
     ]
    },
    {
     "name": "stdout",
     "output_type": "stream",
     "text": [
      "epoch: 37 -----train loss : 0.5771 ,train acc:  0.8446,  valid loss : 0.7646 ,vaild acc:  0.7705\n"
     ]
    },
    {
     "name": "stderr",
     "output_type": "stream",
     "text": [
      "100%|██████████| 782/782 [00:16<00:00, 46.52it/s]\n"
     ]
    },
    {
     "name": "stdout",
     "output_type": "stream",
     "text": [
      "epoch: 38 -----train loss : 0.5595 ,train acc:  0.8522,  valid loss : 0.7537 ,vaild acc:  0.7704\n"
     ]
    },
    {
     "name": "stderr",
     "output_type": "stream",
     "text": [
      "100%|██████████| 782/782 [00:16<00:00, 54.05it/s]\n"
     ]
    },
    {
     "name": "stdout",
     "output_type": "stream",
     "text": [
      "epoch: 39 -----train loss : 0.5767 ,train acc:  0.8468,  valid loss : 0.7576 ,vaild acc:  0.7725\n"
     ]
    },
    {
     "name": "stderr",
     "output_type": "stream",
     "text": [
      "100%|██████████| 782/782 [00:16<00:00, 46.94it/s]\n"
     ]
    },
    {
     "name": "stdout",
     "output_type": "stream",
     "text": [
      "epoch: 40 -----train loss : 0.5312 ,train acc:  0.8608,  valid loss : 0.7471 ,vaild acc:  0.7705     loss improved!\n"
     ]
    },
    {
     "name": "stderr",
     "output_type": "stream",
     "text": [
      "100%|██████████| 782/782 [00:15<00:00, 49.00it/s]\n"
     ]
    },
    {
     "name": "stdout",
     "output_type": "stream",
     "text": [
      "epoch: 41 -----train loss : 0.5796 ,train acc:  0.8492,  valid loss : 0.7667 ,vaild acc:  0.7727\n"
     ]
    },
    {
     "name": "stderr",
     "output_type": "stream",
     "text": [
      "100%|██████████| 782/782 [00:15<00:00, 50.00it/s]\n"
     ]
    },
    {
     "name": "stdout",
     "output_type": "stream",
     "text": [
      "epoch: 42 -----train loss : 0.5161 ,train acc:  0.8587,  valid loss : 0.7198 ,vaild acc:  0.78     loss improved!\n"
     ]
    },
    {
     "name": "stderr",
     "output_type": "stream",
     "text": [
      "100%|██████████| 782/782 [00:16<00:00, 56.24it/s]\n"
     ]
    },
    {
     "name": "stdout",
     "output_type": "stream",
     "text": [
      "epoch: 43 -----train loss : 0.536 ,train acc:  0.8647,  valid loss : 0.7274 ,vaild acc:  0.7849\n"
     ]
    },
    {
     "name": "stderr",
     "output_type": "stream",
     "text": [
      "100%|██████████| 782/782 [00:16<00:00, 48.08it/s]\n"
     ]
    },
    {
     "name": "stdout",
     "output_type": "stream",
     "text": [
      "epoch: 44 -----train loss : 0.5611 ,train acc:  0.844,  valid loss : 0.7608 ,vaild acc:  0.7643\n"
     ]
    },
    {
     "name": "stderr",
     "output_type": "stream",
     "text": [
      "100%|██████████| 782/782 [00:16<00:00, 46.21it/s]\n"
     ]
    },
    {
     "name": "stdout",
     "output_type": "stream",
     "text": [
      "epoch: 45 -----train loss : 0.535 ,train acc:  0.863,  valid loss : 0.7466 ,vaild acc:  0.7777\n"
     ]
    },
    {
     "name": "stderr",
     "output_type": "stream",
     "text": [
      "100%|██████████| 782/782 [00:17<00:00, 45.32it/s]\n"
     ]
    },
    {
     "name": "stdout",
     "output_type": "stream",
     "text": [
      "epoch: 46 -----train loss : 0.5401 ,train acc:  0.8585,  valid loss : 0.7589 ,vaild acc:  0.7728\n"
     ]
    },
    {
     "name": "stderr",
     "output_type": "stream",
     "text": [
      "100%|██████████| 782/782 [00:16<00:00, 47.72it/s]\n"
     ]
    },
    {
     "name": "stdout",
     "output_type": "stream",
     "text": [
      "epoch: 47 -----train loss : 0.5231 ,train acc:  0.8591,  valid loss : 0.7428 ,vaild acc:  0.7742\n"
     ]
    },
    {
     "name": "stderr",
     "output_type": "stream",
     "text": [
      "100%|██████████| 782/782 [00:15<00:00, 49.65it/s]\n"
     ]
    },
    {
     "name": "stdout",
     "output_type": "stream",
     "text": [
      "epoch: 48 -----train loss : 0.5538 ,train acc:  0.8586,  valid loss : 0.773 ,vaild acc:  0.7711\n",
      "-------------------------------\n",
      "Training Results at best validation loss\n",
      "train loss : 0.5161 ,train acc:  0.8587,  valid loss : 0.7198 ,vaild acc:  0.78\n"
     ]
    }
   ],
   "source": [
    "model = Standard_MIXUP_CIFAR10(X_train,Y_train, X_train_eval, Y_train_eval, X_test,Y_test, alpha=1.0)\n",
    "result_dict[\"standard_1.0\"] = model.train()"
   ]
  },
  {
   "cell_type": "code",
   "execution_count": 21,
   "metadata": {},
   "outputs": [
    {
     "name": "stdout",
     "output_type": "stream",
     "text": [
      "Model: \"standard__mixup__resnet_3\"\n",
      "_________________________________________________________________\n",
      "Layer (type)                 Output Shape              Param #   \n",
      "=================================================================\n",
      "ResNet18 (ResnetBuilder)     (None, 512)               9782720   \n",
      "_________________________________________________________________\n",
      "mix_up_7 (MixUp)             (None, 32, 32, 3)         0         \n",
      "_________________________________________________________________\n",
      "dense_7 (Dense)              (None, 10)                5130      \n",
      "=================================================================\n",
      "Total params: 9,787,850\n",
      "Trainable params: 9,779,914\n",
      "Non-trainable params: 7,936\n",
      "_________________________________________________________________\n",
      "First_evaluation\n",
      "157/157 [==============================] - 4s 25ms/step - loss: 8.4128 - accuracy: 0.1489\n",
      "157/157 [==============================] - 2s 15ms/step - loss: 8.3695 - accuracy: 0.1471\n",
      "epoch: 0 -----train loss : 8.4128 ,train acc:  0.1489,  valid loss : 8.3695 ,vaild acc:  0.1471\n",
      "train sample\n",
      "tf.Tensor(\n",
      "[[0.         0.31274277 0.         0.68725723 0.         0.\n",
      "  0.         0.         0.         0.        ]\n",
      " [0.         0.         0.         0.         0.         0.\n",
      "  0.         0.5014897  0.         0.4985103 ]\n",
      " [0.         0.         0.4644027  0.         0.         0.\n",
      "  0.         0.         0.5355973  0.        ]\n",
      " [0.         0.42238784 0.         0.         0.         0.\n",
      "  0.         0.         0.         0.57761216]\n",
      " [0.47029585 0.         0.         0.         0.         0.\n",
      "  0.52970415 0.         0.         0.        ]], shape=(5, 10), dtype=float32)\n",
      "\n",
      "train-eval sample\n",
      "tf.Tensor(\n",
      "[[0. 0. 0. 1. 0. 0. 0. 0. 0. 0.]\n",
      " [0. 0. 0. 0. 0. 1. 0. 0. 0. 0.]\n",
      " [0. 0. 0. 0. 0. 0. 0. 0. 0. 1.]\n",
      " [0. 0. 0. 0. 1. 0. 0. 0. 0. 0.]\n",
      " [0. 0. 0. 0. 0. 0. 0. 1. 0. 0.]], shape=(5, 10), dtype=float32)\n",
      "\n",
      "test sample\n",
      "tf.Tensor(\n",
      "[[0. 0. 0. 1. 0. 0. 0. 0. 0. 0.]\n",
      " [0. 0. 0. 0. 0. 0. 0. 0. 1. 0.]\n",
      " [0. 0. 0. 0. 0. 0. 0. 0. 1. 0.]\n",
      " [1. 0. 0. 0. 0. 0. 0. 0. 0. 0.]\n",
      " [0. 0. 0. 0. 0. 0. 1. 0. 0. 0.]], shape=(5, 10), dtype=float32)\n",
      "\n"
     ]
    },
    {
     "name": "stderr",
     "output_type": "stream",
     "text": [
      "\r",
      "  0%|          | 0/782 [00:00<?, ?it/s]"
     ]
    },
    {
     "name": "stdout",
     "output_type": "stream",
     "text": [
      "batch num  782\n"
     ]
    },
    {
     "name": "stderr",
     "output_type": "stream",
     "text": [
      "100%|██████████| 782/782 [00:25<00:00,  6.89it/s]\n"
     ]
    },
    {
     "name": "stdout",
     "output_type": "stream",
     "text": [
      "epoch: 1 -----train loss : 1.5295 ,train acc:  0.4672,  valid loss : 1.5224 ,vaild acc:  0.4617     loss improved!\n"
     ]
    },
    {
     "name": "stderr",
     "output_type": "stream",
     "text": [
      "100%|██████████| 782/782 [00:15<00:00, 50.71it/s]\n"
     ]
    },
    {
     "name": "stdout",
     "output_type": "stream",
     "text": [
      "epoch: 2 -----train loss : 1.4458 ,train acc:  0.4933,  valid loss : 1.4464 ,vaild acc:  0.4954     loss improved!\n"
     ]
    },
    {
     "name": "stderr",
     "output_type": "stream",
     "text": [
      "100%|██████████| 782/782 [00:15<00:00, 49.78it/s]\n"
     ]
    },
    {
     "name": "stdout",
     "output_type": "stream",
     "text": [
      "epoch: 3 -----train loss : 1.291 ,train acc:  0.5706,  valid loss : 1.3023 ,vaild acc:  0.5619     loss improved!\n"
     ]
    },
    {
     "name": "stderr",
     "output_type": "stream",
     "text": [
      "100%|██████████| 782/782 [00:17<00:00, 25.82it/s]\n"
     ]
    },
    {
     "name": "stdout",
     "output_type": "stream",
     "text": [
      "epoch: 4 -----train loss : 1.2357 ,train acc:  0.5781,  valid loss : 1.2409 ,vaild acc:  0.5768     loss improved!\n"
     ]
    },
    {
     "name": "stderr",
     "output_type": "stream",
     "text": [
      "100%|██████████| 782/782 [00:16<00:00, 46.54it/s]\n"
     ]
    },
    {
     "name": "stdout",
     "output_type": "stream",
     "text": [
      "epoch: 5 -----train loss : 1.1645 ,train acc:  0.6126,  valid loss : 1.1861 ,vaild acc:  0.6046     loss improved!\n"
     ]
    },
    {
     "name": "stderr",
     "output_type": "stream",
     "text": [
      "100%|██████████| 782/782 [00:16<00:00, 55.58it/s]\n"
     ]
    },
    {
     "name": "stdout",
     "output_type": "stream",
     "text": [
      "epoch: 6 -----train loss : 1.1579 ,train acc:  0.6241,  valid loss : 1.1711 ,vaild acc:  0.6211     loss improved!\n"
     ]
    },
    {
     "name": "stderr",
     "output_type": "stream",
     "text": [
      "100%|██████████| 782/782 [00:15<00:00, 56.68it/s]\n"
     ]
    },
    {
     "name": "stdout",
     "output_type": "stream",
     "text": [
      "epoch: 7 -----train loss : 1.1048 ,train acc:  0.6387,  valid loss : 1.1266 ,vaild acc:  0.6248     loss improved!\n"
     ]
    },
    {
     "name": "stderr",
     "output_type": "stream",
     "text": [
      "100%|██████████| 782/782 [00:15<00:00, 50.51it/s]\n"
     ]
    },
    {
     "name": "stdout",
     "output_type": "stream",
     "text": [
      "epoch: 8 -----train loss : 1.112 ,train acc:  0.6357,  valid loss : 1.1402 ,vaild acc:  0.6256\n"
     ]
    },
    {
     "name": "stderr",
     "output_type": "stream",
     "text": [
      "100%|██████████| 782/782 [00:15<00:00, 49.94it/s]\n"
     ]
    },
    {
     "name": "stdout",
     "output_type": "stream",
     "text": [
      "epoch: 9 -----train loss : 1.1028 ,train acc:  0.649,  valid loss : 1.1288 ,vaild acc:  0.6396\n"
     ]
    },
    {
     "name": "stderr",
     "output_type": "stream",
     "text": [
      "100%|██████████| 782/782 [00:16<00:00, 46.38it/s]\n"
     ]
    },
    {
     "name": "stdout",
     "output_type": "stream",
     "text": [
      "epoch: 10 -----train loss : 1.0773 ,train acc:  0.6674,  valid loss : 1.1084 ,vaild acc:  0.649     loss improved!\n"
     ]
    },
    {
     "name": "stderr",
     "output_type": "stream",
     "text": [
      "100%|██████████| 782/782 [00:17<00:00, 45.03it/s]\n"
     ]
    },
    {
     "name": "stdout",
     "output_type": "stream",
     "text": [
      "epoch: 11 -----train loss : 1.0636 ,train acc:  0.6721,  valid loss : 1.0967 ,vaild acc:  0.6591     loss improved!\n"
     ]
    },
    {
     "name": "stderr",
     "output_type": "stream",
     "text": [
      "100%|██████████| 782/782 [00:16<00:00, 47.35it/s]\n"
     ]
    },
    {
     "name": "stdout",
     "output_type": "stream",
     "text": [
      "epoch: 12 -----train loss : 1.0471 ,train acc:  0.6876,  valid loss : 1.0824 ,vaild acc:  0.6692     loss improved!\n"
     ]
    },
    {
     "name": "stderr",
     "output_type": "stream",
     "text": [
      "100%|██████████| 782/782 [00:15<00:00, 49.14it/s]\n"
     ]
    },
    {
     "name": "stdout",
     "output_type": "stream",
     "text": [
      "epoch: 13 -----train loss : 1.0053 ,train acc:  0.6863,  valid loss : 1.0449 ,vaild acc:  0.6686     loss improved!\n"
     ]
    },
    {
     "name": "stderr",
     "output_type": "stream",
     "text": [
      "100%|██████████| 782/782 [00:15<00:00, 49.54it/s]\n"
     ]
    },
    {
     "name": "stdout",
     "output_type": "stream",
     "text": [
      "epoch: 14 -----train loss : 0.9932 ,train acc:  0.6931,  valid loss : 1.0449 ,vaild acc:  0.6686     loss improved!\n"
     ]
    },
    {
     "name": "stderr",
     "output_type": "stream",
     "text": [
      "100%|██████████| 782/782 [00:16<00:00, 47.47it/s]\n"
     ]
    },
    {
     "name": "stdout",
     "output_type": "stream",
     "text": [
      "epoch: 15 -----train loss : 1.0038 ,train acc:  0.7053,  valid loss : 1.0477 ,vaild acc:  0.6816\n"
     ]
    },
    {
     "name": "stderr",
     "output_type": "stream",
     "text": [
      "100%|██████████| 782/782 [00:17<00:00, 45.98it/s]\n"
     ]
    },
    {
     "name": "stdout",
     "output_type": "stream",
     "text": [
      "epoch: 16 -----train loss : 0.9775 ,train acc:  0.7054,  valid loss : 1.0341 ,vaild acc:  0.6759     loss improved!\n"
     ]
    },
    {
     "name": "stderr",
     "output_type": "stream",
     "text": [
      "100%|██████████| 782/782 [00:17<00:00, 45.48it/s]\n"
     ]
    },
    {
     "name": "stdout",
     "output_type": "stream",
     "text": [
      "epoch: 17 -----train loss : 0.993 ,train acc:  0.6881,  valid loss : 1.0393 ,vaild acc:  0.6685\n"
     ]
    },
    {
     "name": "stderr",
     "output_type": "stream",
     "text": [
      "100%|██████████| 782/782 [00:15<00:00, 57.27it/s]\n"
     ]
    },
    {
     "name": "stdout",
     "output_type": "stream",
     "text": [
      "epoch: 18 -----train loss : 0.9277 ,train acc:  0.7235,  valid loss : 0.9813 ,vaild acc:  0.7031     loss improved!\n"
     ]
    },
    {
     "name": "stderr",
     "output_type": "stream",
     "text": [
      "100%|██████████| 782/782 [00:16<00:00, 48.58it/s]\n"
     ]
    },
    {
     "name": "stdout",
     "output_type": "stream",
     "text": [
      "epoch: 19 -----train loss : 0.9168 ,train acc:  0.7188,  valid loss : 0.976 ,vaild acc:  0.6925     loss improved!\n"
     ]
    },
    {
     "name": "stderr",
     "output_type": "stream",
     "text": [
      "100%|██████████| 782/782 [00:15<00:00, 51.00it/s]\n"
     ]
    },
    {
     "name": "stdout",
     "output_type": "stream",
     "text": [
      "epoch: 20 -----train loss : 0.9474 ,train acc:  0.7319,  valid loss : 1.003 ,vaild acc:  0.7049\n"
     ]
    },
    {
     "name": "stderr",
     "output_type": "stream",
     "text": [
      "100%|██████████| 782/782 [00:15<00:00, 56.88it/s]\n"
     ]
    },
    {
     "name": "stdout",
     "output_type": "stream",
     "text": [
      "epoch: 21 -----train loss : 0.9379 ,train acc:  0.7173,  valid loss : 1.0049 ,vaild acc:  0.6827\n"
     ]
    },
    {
     "name": "stderr",
     "output_type": "stream",
     "text": [
      "100%|██████████| 782/782 [00:16<00:00, 48.76it/s]\n"
     ]
    },
    {
     "name": "stdout",
     "output_type": "stream",
     "text": [
      "epoch: 22 -----train loss : 0.9151 ,train acc:  0.7405,  valid loss : 0.9691 ,vaild acc:  0.7169     loss improved!\n"
     ]
    },
    {
     "name": "stderr",
     "output_type": "stream",
     "text": [
      "100%|██████████| 782/782 [00:16<00:00, 46.76it/s]\n"
     ]
    },
    {
     "name": "stdout",
     "output_type": "stream",
     "text": [
      "epoch: 23 -----train loss : 0.8816 ,train acc:  0.7488,  valid loss : 0.9403 ,vaild acc:  0.7254     loss improved!\n"
     ]
    },
    {
     "name": "stderr",
     "output_type": "stream",
     "text": [
      "100%|██████████| 782/782 [00:17<00:00, 56.33it/s]\n"
     ]
    },
    {
     "name": "stdout",
     "output_type": "stream",
     "text": [
      "epoch: 24 -----train loss : 0.8559 ,train acc:  0.7524,  valid loss : 0.9186 ,vaild acc:  0.7218     loss improved!\n"
     ]
    },
    {
     "name": "stderr",
     "output_type": "stream",
     "text": [
      "100%|██████████| 782/782 [00:16<00:00, 48.41it/s]\n"
     ]
    },
    {
     "name": "stdout",
     "output_type": "stream",
     "text": [
      "epoch: 25 -----train loss : 0.8539 ,train acc:  0.7584,  valid loss : 0.9318 ,vaild acc:  0.7238\n"
     ]
    },
    {
     "name": "stderr",
     "output_type": "stream",
     "text": [
      "100%|██████████| 782/782 [00:15<00:00, 49.96it/s]\n"
     ]
    },
    {
     "name": "stdout",
     "output_type": "stream",
     "text": [
      "epoch: 26 -----train loss : 0.8987 ,train acc:  0.7335,  valid loss : 0.9768 ,vaild acc:  0.697\n"
     ]
    },
    {
     "name": "stderr",
     "output_type": "stream",
     "text": [
      "100%|██████████| 782/782 [00:28<00:00, 14.20it/s]\n"
     ]
    },
    {
     "name": "stdout",
     "output_type": "stream",
     "text": [
      "epoch: 27 -----train loss : 0.8475 ,train acc:  0.7623,  valid loss : 0.9183 ,vaild acc:  0.726     loss improved!\n"
     ]
    },
    {
     "name": "stderr",
     "output_type": "stream",
     "text": [
      "100%|██████████| 782/782 [00:25<00:00, 31.04it/s]\n"
     ]
    },
    {
     "name": "stdout",
     "output_type": "stream",
     "text": [
      "epoch: 28 -----train loss : 0.8442 ,train acc:  0.7674,  valid loss : 0.9272 ,vaild acc:  0.7232\n"
     ]
    },
    {
     "name": "stderr",
     "output_type": "stream",
     "text": [
      "100%|██████████| 782/782 [00:21<00:00, 36.19it/s]\n"
     ]
    },
    {
     "name": "stdout",
     "output_type": "stream",
     "text": [
      "epoch: 29 -----train loss : 0.8606 ,train acc:  0.7572,  valid loss : 0.9394 ,vaild acc:  0.7173\n"
     ]
    },
    {
     "name": "stderr",
     "output_type": "stream",
     "text": [
      "100%|██████████| 782/782 [00:17<00:00, 45.66it/s]\n"
     ]
    },
    {
     "name": "stdout",
     "output_type": "stream",
     "text": [
      "epoch: 30 -----train loss : 0.8538 ,train acc:  0.7611,  valid loss : 0.9294 ,vaild acc:  0.7256\n"
     ]
    },
    {
     "name": "stderr",
     "output_type": "stream",
     "text": [
      "100%|██████████| 782/782 [00:17<00:00, 45.10it/s]\n"
     ]
    },
    {
     "name": "stdout",
     "output_type": "stream",
     "text": [
      "epoch: 31 -----train loss : 0.8301 ,train acc:  0.765,  valid loss : 0.9066 ,vaild acc:  0.7243     loss improved!\n"
     ]
    },
    {
     "name": "stderr",
     "output_type": "stream",
     "text": [
      "100%|██████████| 782/782 [00:17<00:00, 44.16it/s]\n"
     ]
    },
    {
     "name": "stdout",
     "output_type": "stream",
     "text": [
      "epoch: 32 -----train loss : 0.8109 ,train acc:  0.7716,  valid loss : 0.9016 ,vaild acc:  0.727     loss improved!\n"
     ]
    },
    {
     "name": "stderr",
     "output_type": "stream",
     "text": [
      "100%|██████████| 782/782 [00:17<00:00, 43.97it/s]\n"
     ]
    },
    {
     "name": "stdout",
     "output_type": "stream",
     "text": [
      "epoch: 33 -----train loss : 0.8668 ,train acc:  0.7618,  valid loss : 0.9543 ,vaild acc:  0.7189\n"
     ]
    },
    {
     "name": "stderr",
     "output_type": "stream",
     "text": [
      "100%|██████████| 782/782 [00:15<00:00, 49.92it/s]\n"
     ]
    },
    {
     "name": "stdout",
     "output_type": "stream",
     "text": [
      "epoch: 34 -----train loss : 0.8213 ,train acc:  0.7689,  valid loss : 0.9046 ,vaild acc:  0.7296\n"
     ]
    },
    {
     "name": "stderr",
     "output_type": "stream",
     "text": [
      "100%|██████████| 782/782 [00:16<00:00, 48.26it/s]\n"
     ]
    },
    {
     "name": "stdout",
     "output_type": "stream",
     "text": [
      "epoch: 35 -----train loss : 0.8122 ,train acc:  0.7827,  valid loss : 0.8943 ,vaild acc:  0.7414     loss improved!\n"
     ]
    },
    {
     "name": "stderr",
     "output_type": "stream",
     "text": [
      "100%|██████████| 782/782 [00:16<00:00, 46.36it/s]\n"
     ]
    },
    {
     "name": "stdout",
     "output_type": "stream",
     "text": [
      "epoch: 36 -----train loss : 0.8125 ,train acc:  0.7874,  valid loss : 0.8931 ,vaild acc:  0.7449     loss improved!\n"
     ]
    },
    {
     "name": "stderr",
     "output_type": "stream",
     "text": [
      "100%|██████████| 782/782 [00:16<00:00, 48.09it/s]\n"
     ]
    },
    {
     "name": "stdout",
     "output_type": "stream",
     "text": [
      "epoch: 37 -----train loss : 0.8079 ,train acc:  0.7869,  valid loss : 0.8986 ,vaild acc:  0.7416\n"
     ]
    },
    {
     "name": "stderr",
     "output_type": "stream",
     "text": [
      "100%|██████████| 782/782 [00:16<00:00, 48.51it/s]\n"
     ]
    },
    {
     "name": "stdout",
     "output_type": "stream",
     "text": [
      "epoch: 38 -----train loss : 0.7942 ,train acc:  0.7797,  valid loss : 0.8875 ,vaild acc:  0.7288     loss improved!\n"
     ]
    },
    {
     "name": "stderr",
     "output_type": "stream",
     "text": [
      "100%|██████████| 782/782 [00:18<00:00, 43.03it/s]\n"
     ]
    },
    {
     "name": "stdout",
     "output_type": "stream",
     "text": [
      "epoch: 39 -----train loss : 0.8058 ,train acc:  0.7782,  valid loss : 0.8968 ,vaild acc:  0.7328\n"
     ]
    },
    {
     "name": "stderr",
     "output_type": "stream",
     "text": [
      "100%|██████████| 782/782 [00:16<00:00, 46.00it/s]\n"
     ]
    },
    {
     "name": "stdout",
     "output_type": "stream",
     "text": [
      "epoch: 40 -----train loss : 0.7731 ,train acc:  0.7888,  valid loss : 0.8597 ,vaild acc:  0.7463     loss improved!\n"
     ]
    },
    {
     "name": "stderr",
     "output_type": "stream",
     "text": [
      "100%|██████████| 782/782 [00:17<00:00, 38.35it/s]\n"
     ]
    },
    {
     "name": "stdout",
     "output_type": "stream",
     "text": [
      "epoch: 41 -----train loss : 0.7902 ,train acc:  0.7905,  valid loss : 0.8922 ,vaild acc:  0.7389\n"
     ]
    },
    {
     "name": "stderr",
     "output_type": "stream",
     "text": [
      "100%|██████████| 782/782 [00:18<00:00, 42.21it/s]\n"
     ]
    },
    {
     "name": "stdout",
     "output_type": "stream",
     "text": [
      "epoch: 42 -----train loss : 0.7704 ,train acc:  0.7993,  valid loss : 0.8617 ,vaild acc:  0.7451\n"
     ]
    },
    {
     "name": "stderr",
     "output_type": "stream",
     "text": [
      "100%|██████████| 782/782 [00:16<00:00, 47.21it/s]\n"
     ]
    },
    {
     "name": "stdout",
     "output_type": "stream",
     "text": [
      "epoch: 43 -----train loss : 0.7969 ,train acc:  0.7888,  valid loss : 0.8881 ,vaild acc:  0.7393\n"
     ]
    },
    {
     "name": "stderr",
     "output_type": "stream",
     "text": [
      "100%|██████████| 782/782 [00:17<00:00, 45.91it/s]\n"
     ]
    },
    {
     "name": "stdout",
     "output_type": "stream",
     "text": [
      "epoch: 44 -----train loss : 0.789 ,train acc:  0.7924,  valid loss : 0.8856 ,vaild acc:  0.7426\n"
     ]
    },
    {
     "name": "stderr",
     "output_type": "stream",
     "text": [
      "100%|██████████| 782/782 [00:17<00:00, 44.44it/s]\n"
     ]
    },
    {
     "name": "stdout",
     "output_type": "stream",
     "text": [
      "epoch: 45 -----train loss : 0.7566 ,train acc:  0.7975,  valid loss : 0.8574 ,vaild acc:  0.7489     loss improved!\n"
     ]
    },
    {
     "name": "stderr",
     "output_type": "stream",
     "text": [
      "100%|██████████| 782/782 [00:15<00:00, 50.17it/s]\n"
     ]
    },
    {
     "name": "stdout",
     "output_type": "stream",
     "text": [
      "epoch: 46 -----train loss : 0.7603 ,train acc:  0.797,  valid loss : 0.8482 ,vaild acc:  0.756     loss improved!\n"
     ]
    },
    {
     "name": "stderr",
     "output_type": "stream",
     "text": [
      "100%|██████████| 782/782 [00:17<00:00, 43.93it/s]\n"
     ]
    },
    {
     "name": "stdout",
     "output_type": "stream",
     "text": [
      "epoch: 47 -----train loss : 0.7544 ,train acc:  0.7984,  valid loss : 0.8519 ,vaild acc:  0.749\n"
     ]
    },
    {
     "name": "stderr",
     "output_type": "stream",
     "text": [
      "100%|██████████| 782/782 [00:16<00:00, 47.26it/s]\n"
     ]
    },
    {
     "name": "stdout",
     "output_type": "stream",
     "text": [
      "epoch: 48 -----train loss : 0.7498 ,train acc:  0.8018,  valid loss : 0.8466 ,vaild acc:  0.7552     loss improved!\n"
     ]
    },
    {
     "name": "stderr",
     "output_type": "stream",
     "text": [
      "100%|██████████| 782/782 [00:16<00:00, 55.02it/s]\n"
     ]
    },
    {
     "name": "stdout",
     "output_type": "stream",
     "text": [
      "epoch: 49 -----train loss : 0.7514 ,train acc:  0.805,  valid loss : 0.8619 ,vaild acc:  0.7477\n"
     ]
    },
    {
     "name": "stderr",
     "output_type": "stream",
     "text": [
      "100%|██████████| 782/782 [00:17<00:00, 44.54it/s]\n"
     ]
    },
    {
     "name": "stdout",
     "output_type": "stream",
     "text": [
      "epoch: 50 -----train loss : 0.7365 ,train acc:  0.8118,  valid loss : 0.8336 ,vaild acc:  0.7623     loss improved!\n"
     ]
    },
    {
     "name": "stderr",
     "output_type": "stream",
     "text": [
      "100%|██████████| 782/782 [00:17<00:00, 54.10it/s]\n"
     ]
    },
    {
     "name": "stdout",
     "output_type": "stream",
     "text": [
      "epoch: 51 -----train loss : 0.736 ,train acc:  0.8114,  valid loss : 0.837 ,vaild acc:  0.7634\n"
     ]
    },
    {
     "name": "stderr",
     "output_type": "stream",
     "text": [
      "100%|██████████| 782/782 [00:16<00:00, 47.21it/s]\n"
     ]
    },
    {
     "name": "stdout",
     "output_type": "stream",
     "text": [
      "epoch: 52 -----train loss : 0.7325 ,train acc:  0.8173,  valid loss : 0.8356 ,vaild acc:  0.7645\n"
     ]
    },
    {
     "name": "stderr",
     "output_type": "stream",
     "text": [
      "100%|██████████| 782/782 [00:18<00:00, 42.36it/s]\n"
     ]
    },
    {
     "name": "stdout",
     "output_type": "stream",
     "text": [
      "epoch: 53 -----train loss : 0.7521 ,train acc:  0.8066,  valid loss : 0.8599 ,vaild acc:  0.7542\n"
     ]
    },
    {
     "name": "stderr",
     "output_type": "stream",
     "text": [
      "100%|██████████| 782/782 [00:16<00:00, 47.27it/s]\n"
     ]
    },
    {
     "name": "stdout",
     "output_type": "stream",
     "text": [
      "epoch: 54 -----train loss : 0.7218 ,train acc:  0.8126,  valid loss : 0.8331 ,vaild acc:  0.7578     loss improved!\n"
     ]
    },
    {
     "name": "stderr",
     "output_type": "stream",
     "text": [
      "100%|██████████| 782/782 [00:17<00:00, 43.74it/s]\n"
     ]
    },
    {
     "name": "stdout",
     "output_type": "stream",
     "text": [
      "epoch: 55 -----train loss : 0.7075 ,train acc:  0.8138,  valid loss : 0.8214 ,vaild acc:  0.7593     loss improved!\n"
     ]
    },
    {
     "name": "stderr",
     "output_type": "stream",
     "text": [
      "100%|██████████| 782/782 [00:17<00:00, 53.69it/s]\n"
     ]
    },
    {
     "name": "stdout",
     "output_type": "stream",
     "text": [
      "epoch: 56 -----train loss : 0.7401 ,train acc:  0.807,  valid loss : 0.849 ,vaild acc:  0.7568\n"
     ]
    },
    {
     "name": "stderr",
     "output_type": "stream",
     "text": [
      "100%|██████████| 782/782 [00:17<00:00, 45.20it/s]\n"
     ]
    },
    {
     "name": "stdout",
     "output_type": "stream",
     "text": [
      "epoch: 57 -----train loss : 0.7204 ,train acc:  0.8191,  valid loss : 0.8336 ,vaild acc:  0.7616\n"
     ]
    },
    {
     "name": "stderr",
     "output_type": "stream",
     "text": [
      "100%|██████████| 782/782 [00:18<00:00, 52.35it/s]\n"
     ]
    },
    {
     "name": "stdout",
     "output_type": "stream",
     "text": [
      "epoch: 58 -----train loss : 0.7126 ,train acc:  0.8142,  valid loss : 0.822 ,vaild acc:  0.7608\n"
     ]
    },
    {
     "name": "stderr",
     "output_type": "stream",
     "text": [
      "100%|██████████| 782/782 [00:16<00:00, 47.28it/s]\n"
     ]
    },
    {
     "name": "stdout",
     "output_type": "stream",
     "text": [
      "epoch: 59 -----train loss : 0.7086 ,train acc:  0.8172,  valid loss : 0.8304 ,vaild acc:  0.7576\n"
     ]
    },
    {
     "name": "stderr",
     "output_type": "stream",
     "text": [
      "100%|██████████| 782/782 [00:18<00:00, 24.71it/s]\n"
     ]
    },
    {
     "name": "stdout",
     "output_type": "stream",
     "text": [
      "epoch: 60 -----train loss : 0.7057 ,train acc:  0.8268,  valid loss : 0.8221 ,vaild acc:  0.7662\n"
     ]
    },
    {
     "name": "stderr",
     "output_type": "stream",
     "text": [
      "100%|██████████| 782/782 [00:17<00:00, 52.67it/s]\n"
     ]
    },
    {
     "name": "stdout",
     "output_type": "stream",
     "text": [
      "epoch: 61 -----train loss : 0.7014 ,train acc:  0.8195,  valid loss : 0.8281 ,vaild acc:  0.762\n",
      "-------------------------------\n",
      "Training Results at best validation loss\n",
      "train loss : 0.7075 ,train acc:  0.8138,  valid loss : 0.8214 ,vaild acc:  0.7593\n"
     ]
    }
   ],
   "source": [
    "model = Standard_MIXUP_CIFAR10(X_train,Y_train, X_train_eval, Y_train_eval, X_test,Y_test, alpha=5.0)\n",
    "result_dict[\"standard_5.0\"] = model.train()"
   ]
  },
  {
   "cell_type": "markdown",
   "metadata": {},
   "source": [
    "# Resnet ( No mixup )"
   ]
  },
  {
   "cell_type": "code",
   "execution_count": 22,
   "metadata": {},
   "outputs": [],
   "source": [
    "class Normal_Resnet_CIFAR10(training_model):\n",
    "    def define_model(self):\n",
    "        self.mixup = False\n",
    "        return Normal_Resnet()"
   ]
  },
  {
   "cell_type": "code",
   "execution_count": 23,
   "metadata": {
    "scrolled": true
   },
   "outputs": [
    {
     "name": "stdout",
     "output_type": "stream",
     "text": [
      "Model: \"normal__resnet\"\n",
      "_________________________________________________________________\n",
      "Layer (type)                 Output Shape              Param #   \n",
      "=================================================================\n",
      "ResNet18 (ResnetBuilder)     (None, 512)               9782720   \n",
      "_________________________________________________________________\n",
      "dense_8 (Dense)              (None, 10)                5130      \n",
      "=================================================================\n",
      "Total params: 9,787,850\n",
      "Trainable params: 9,779,914\n",
      "Non-trainable params: 7,936\n",
      "_________________________________________________________________\n",
      "First_evaluation\n",
      "157/157 [==============================] - 4s 26ms/step - loss: 10.2602 - accuracy: 0.1063\n",
      "157/157 [==============================] - 2s 15ms/step - loss: 10.2871 - accuracy: 0.1008\n",
      "epoch: 0 -----train loss : 10.2602 ,train acc:  0.1063,  valid loss : 10.2871 ,vaild acc:  0.1008\n",
      "train sample\n",
      "tf.Tensor(\n",
      "[[0. 0. 0. 0. 0. 0. 1. 0. 0. 0.]\n",
      " [0. 0. 0. 0. 0. 0. 0. 0. 0. 1.]\n",
      " [0. 0. 0. 0. 0. 0. 0. 0. 0. 1.]\n",
      " [0. 0. 0. 0. 1. 0. 0. 0. 0. 0.]\n",
      " [0. 1. 0. 0. 0. 0. 0. 0. 0. 0.]], shape=(5, 10), dtype=float32)\n",
      "\n",
      "train-eval sample\n",
      "tf.Tensor(\n",
      "[[0. 0. 0. 1. 0. 0. 0. 0. 0. 0.]\n",
      " [0. 0. 0. 0. 0. 1. 0. 0. 0. 0.]\n",
      " [0. 0. 0. 0. 0. 0. 0. 0. 0. 1.]\n",
      " [0. 0. 0. 0. 1. 0. 0. 0. 0. 0.]\n",
      " [0. 0. 0. 0. 0. 0. 0. 1. 0. 0.]], shape=(5, 10), dtype=float32)\n",
      "\n",
      "test sample\n",
      "tf.Tensor(\n",
      "[[0. 0. 0. 1. 0. 0. 0. 0. 0. 0.]\n",
      " [0. 0. 0. 0. 0. 0. 0. 0. 1. 0.]\n",
      " [0. 0. 0. 0. 0. 0. 0. 0. 1. 0.]\n",
      " [1. 0. 0. 0. 0. 0. 0. 0. 0. 0.]\n",
      " [0. 0. 0. 0. 0. 0. 1. 0. 0. 0.]], shape=(5, 10), dtype=float32)\n",
      "\n"
     ]
    },
    {
     "name": "stderr",
     "output_type": "stream",
     "text": [
      "\r",
      "  0%|          | 0/782 [00:00<?, ?it/s]"
     ]
    },
    {
     "name": "stdout",
     "output_type": "stream",
     "text": [
      "batch num  782\n"
     ]
    },
    {
     "name": "stderr",
     "output_type": "stream",
     "text": [
      "100%|██████████| 782/782 [00:26<00:00, 29.58it/s]\n"
     ]
    },
    {
     "name": "stdout",
     "output_type": "stream",
     "text": [
      "epoch: 1 -----train loss : 1.3804 ,train acc:  0.5089,  valid loss : 1.3846 ,vaild acc:  0.5113     loss improved!\n"
     ]
    },
    {
     "name": "stderr",
     "output_type": "stream",
     "text": [
      "100%|██████████| 782/782 [00:17<00:00, 43.99it/s]\n"
     ]
    },
    {
     "name": "stdout",
     "output_type": "stream",
     "text": [
      "epoch: 2 -----train loss : 1.1851 ,train acc:  0.5876,  valid loss : 1.1895 ,vaild acc:  0.5889     loss improved!\n"
     ]
    },
    {
     "name": "stderr",
     "output_type": "stream",
     "text": [
      "100%|██████████| 782/782 [00:16<00:00, 46.22it/s]\n"
     ]
    },
    {
     "name": "stdout",
     "output_type": "stream",
     "text": [
      "epoch: 3 -----train loss : 1.0526 ,train acc:  0.625,  valid loss : 1.1034 ,vaild acc:  0.6119     loss improved!\n"
     ]
    },
    {
     "name": "stderr",
     "output_type": "stream",
     "text": [
      "100%|██████████| 782/782 [00:17<00:00, 45.90it/s]\n"
     ]
    },
    {
     "name": "stdout",
     "output_type": "stream",
     "text": [
      "epoch: 4 -----train loss : 0.9756 ,train acc:  0.6562,  valid loss : 1.0375 ,vaild acc:  0.6429     loss improved!\n"
     ]
    },
    {
     "name": "stderr",
     "output_type": "stream",
     "text": [
      "100%|██████████| 782/782 [00:17<00:00, 43.58it/s]\n"
     ]
    },
    {
     "name": "stdout",
     "output_type": "stream",
     "text": [
      "epoch: 5 -----train loss : 0.8773 ,train acc:  0.6915,  valid loss : 0.9407 ,vaild acc:  0.6726     loss improved!\n"
     ]
    },
    {
     "name": "stderr",
     "output_type": "stream",
     "text": [
      "100%|██████████| 782/782 [00:16<00:00, 47.11it/s]\n"
     ]
    },
    {
     "name": "stdout",
     "output_type": "stream",
     "text": [
      "epoch: 6 -----train loss : 0.8288 ,train acc:  0.7079,  valid loss : 0.9293 ,vaild acc:  0.6846     loss improved!\n"
     ]
    },
    {
     "name": "stderr",
     "output_type": "stream",
     "text": [
      "100%|██████████| 782/782 [00:17<00:00, 43.67it/s]\n"
     ]
    },
    {
     "name": "stdout",
     "output_type": "stream",
     "text": [
      "epoch: 7 -----train loss : 0.8017 ,train acc:  0.7229,  valid loss : 0.917 ,vaild acc:  0.6862     loss improved!\n"
     ]
    },
    {
     "name": "stderr",
     "output_type": "stream",
     "text": [
      "100%|██████████| 782/782 [00:17<00:00, 45.36it/s]\n"
     ]
    },
    {
     "name": "stdout",
     "output_type": "stream",
     "text": [
      "epoch: 8 -----train loss : 0.7809 ,train acc:  0.7242,  valid loss : 0.8933 ,vaild acc:  0.6913     loss improved!\n"
     ]
    },
    {
     "name": "stderr",
     "output_type": "stream",
     "text": [
      "100%|██████████| 782/782 [00:16<00:00, 48.24it/s]\n"
     ]
    },
    {
     "name": "stdout",
     "output_type": "stream",
     "text": [
      "epoch: 9 -----train loss : 0.7533 ,train acc:  0.737,  valid loss : 0.8792 ,vaild acc:  0.7047     loss improved!\n"
     ]
    },
    {
     "name": "stderr",
     "output_type": "stream",
     "text": [
      "100%|██████████| 782/782 [00:17<00:00, 44.18it/s]\n"
     ]
    },
    {
     "name": "stdout",
     "output_type": "stream",
     "text": [
      "epoch: 10 -----train loss : 0.7063 ,train acc:  0.749,  valid loss : 0.8574 ,vaild acc:  0.7071     loss improved!\n"
     ]
    },
    {
     "name": "stderr",
     "output_type": "stream",
     "text": [
      "100%|██████████| 782/782 [00:16<00:00, 48.33it/s]\n"
     ]
    },
    {
     "name": "stdout",
     "output_type": "stream",
     "text": [
      "epoch: 11 -----train loss : 0.7167 ,train acc:  0.7526,  valid loss : 0.8844 ,vaild acc:  0.7084\n"
     ]
    },
    {
     "name": "stderr",
     "output_type": "stream",
     "text": [
      "100%|██████████| 782/782 [00:16<00:00, 46.64it/s]\n"
     ]
    },
    {
     "name": "stdout",
     "output_type": "stream",
     "text": [
      "epoch: 12 -----train loss : 0.6701 ,train acc:  0.7696,  valid loss : 0.8295 ,vaild acc:  0.722     loss improved!\n"
     ]
    },
    {
     "name": "stderr",
     "output_type": "stream",
     "text": [
      "100%|██████████| 782/782 [00:17<00:00, 44.27it/s]\n"
     ]
    },
    {
     "name": "stdout",
     "output_type": "stream",
     "text": [
      "epoch: 13 -----train loss : 0.6258 ,train acc:  0.7839,  valid loss : 0.8225 ,vaild acc:  0.7277     loss improved!\n"
     ]
    },
    {
     "name": "stderr",
     "output_type": "stream",
     "text": [
      "100%|██████████| 782/782 [00:16<00:00, 48.08it/s]\n"
     ]
    },
    {
     "name": "stdout",
     "output_type": "stream",
     "text": [
      "epoch: 14 -----train loss : 0.5766 ,train acc:  0.8027,  valid loss : 0.7775 ,vaild acc:  0.7448     loss improved!\n"
     ]
    },
    {
     "name": "stderr",
     "output_type": "stream",
     "text": [
      "100%|██████████| 782/782 [00:17<00:00, 43.53it/s]\n"
     ]
    },
    {
     "name": "stdout",
     "output_type": "stream",
     "text": [
      "epoch: 15 -----train loss : 0.5835 ,train acc:  0.7995,  valid loss : 0.8039 ,vaild acc:  0.74\n"
     ]
    },
    {
     "name": "stderr",
     "output_type": "stream",
     "text": [
      "100%|██████████| 782/782 [00:17<00:00, 44.68it/s]\n"
     ]
    },
    {
     "name": "stdout",
     "output_type": "stream",
     "text": [
      "epoch: 16 -----train loss : 0.6219 ,train acc:  0.7852,  valid loss : 0.8504 ,vaild acc:  0.727\n"
     ]
    },
    {
     "name": "stderr",
     "output_type": "stream",
     "text": [
      "100%|██████████| 782/782 [00:16<00:00, 47.02it/s]\n"
     ]
    },
    {
     "name": "stdout",
     "output_type": "stream",
     "text": [
      "epoch: 17 -----train loss : 0.5654 ,train acc:  0.8032,  valid loss : 0.829 ,vaild acc:  0.74\n"
     ]
    },
    {
     "name": "stderr",
     "output_type": "stream",
     "text": [
      "100%|██████████| 782/782 [00:17<00:00, 44.15it/s]\n"
     ]
    },
    {
     "name": "stdout",
     "output_type": "stream",
     "text": [
      "epoch: 18 -----train loss : 0.5276 ,train acc:  0.8186,  valid loss : 0.7816 ,vaild acc:  0.7488\n"
     ]
    },
    {
     "name": "stderr",
     "output_type": "stream",
     "text": [
      "100%|██████████| 782/782 [00:17<00:00, 44.65it/s]\n"
     ]
    },
    {
     "name": "stdout",
     "output_type": "stream",
     "text": [
      "epoch: 19 -----train loss : 0.4808 ,train acc:  0.8357,  valid loss : 0.7565 ,vaild acc:  0.7585     loss improved!\n"
     ]
    },
    {
     "name": "stderr",
     "output_type": "stream",
     "text": [
      "100%|██████████| 782/782 [00:16<00:00, 48.25it/s]\n"
     ]
    },
    {
     "name": "stdout",
     "output_type": "stream",
     "text": [
      "epoch: 20 -----train loss : 0.4705 ,train acc:  0.8402,  valid loss : 0.7581 ,vaild acc:  0.7598\n"
     ]
    },
    {
     "name": "stderr",
     "output_type": "stream",
     "text": [
      "100%|██████████| 782/782 [00:18<00:00, 42.65it/s]\n"
     ]
    },
    {
     "name": "stdout",
     "output_type": "stream",
     "text": [
      "epoch: 21 -----train loss : 0.4266 ,train acc:  0.851,  valid loss : 0.7578 ,vaild acc:  0.7666\n"
     ]
    },
    {
     "name": "stderr",
     "output_type": "stream",
     "text": [
      "100%|██████████| 782/782 [00:16<00:00, 46.54it/s]\n"
     ]
    },
    {
     "name": "stdout",
     "output_type": "stream",
     "text": [
      "epoch: 22 -----train loss : 0.4141 ,train acc:  0.8534,  valid loss : 0.7813 ,vaild acc:  0.7572\n"
     ]
    },
    {
     "name": "stderr",
     "output_type": "stream",
     "text": [
      "100%|██████████| 782/782 [00:17<00:00, 47.18it/s]\n"
     ]
    },
    {
     "name": "stdout",
     "output_type": "stream",
     "text": [
      "epoch: 23 -----train loss : 0.4367 ,train acc:  0.8469,  valid loss : 0.7776 ,vaild acc:  0.7592\n"
     ]
    },
    {
     "name": "stderr",
     "output_type": "stream",
     "text": [
      "100%|██████████| 782/782 [00:17<00:00, 44.92it/s]\n"
     ]
    },
    {
     "name": "stdout",
     "output_type": "stream",
     "text": [
      "epoch: 24 -----train loss : 0.408 ,train acc:  0.8573,  valid loss : 0.7649 ,vaild acc:  0.7585\n"
     ]
    },
    {
     "name": "stderr",
     "output_type": "stream",
     "text": [
      "100%|██████████| 782/782 [00:16<00:00, 46.48it/s]\n"
     ]
    },
    {
     "name": "stdout",
     "output_type": "stream",
     "text": [
      "epoch: 25 -----train loss : 0.4081 ,train acc:  0.8602,  valid loss : 0.7788 ,vaild acc:  0.7588\n",
      "-------------------------------\n",
      "Training Results at best validation loss\n",
      "train loss : 0.4808 ,train acc:  0.8357,  valid loss : 0.7565 ,vaild acc:  0.7585\n"
     ]
    }
   ],
   "source": [
    "model = Normal_Resnet_CIFAR10(X_train,Y_train, X_train_eval, Y_train_eval, X_test,Y_test, alpha=10E-6)\n",
    "result_dict[\"No_Mixup\"] = model.train()"
   ]
  },
  {
   "cell_type": "code",
   "execution_count": 24,
   "metadata": {},
   "outputs": [
    {
     "data": {
      "text/plain": [
       "dict_keys(['fin_0.04', 'fin_0.2', 'fin_1.0', 'fin_5.0', 'standard_0.04', 'standard_0.2', 'standard_1.0', 'standard_5.0', 'No_Mixup'])"
      ]
     },
     "execution_count": 24,
     "metadata": {},
     "output_type": "execute_result"
    }
   ],
   "source": [
    "result_dict.keys()"
   ]
  },
  {
   "cell_type": "code",
   "execution_count": 27,
   "metadata": {},
   "outputs": [],
   "source": [
    "%matplotlib inline\n",
    "import matplotlib.pyplot as plt"
   ]
  },
  {
   "cell_type": "code",
   "execution_count": 52,
   "metadata": {},
   "outputs": [
    {
     "data": {
      "text/plain": [
       "<matplotlib.legend.Legend at 0x7ef47a959240>"
      ]
     },
     "execution_count": 52,
     "metadata": {},
     "output_type": "execute_result"
    },
    {
     "data": {
      "image/png": "[encoded data removed]",
      "text/plain": [
       "<Figure size 720x360 with 1 Axes>"
      ]
     },
     "metadata": {
      "needs_background": "light"
     },
     "output_type": "display_data"
    }
   ],
   "source": [
    "fig = plt.figure(figsize=(10,5,))\n",
    "for mixup_alpha, color in zip([0.04, 0.2, 1.0, 5.0], [\"darkblue\", \"violet\", \"crimson\", \"skyblue\"]):\n",
    "    \n",
    "    loss_input_mixup = result_dict[\"standard_\"+str(mixup_alpha)][0]\n",
    "    loss_final_mixup = result_dict[\"fin_\"+str(mixup_alpha)][0]    \n",
    "    plt.plot(np.arange(len(loss_input_mixup)),loss_input_mixup,label=\"Input alpha:\"+str(mixup_alpha),color=color,linestyle=\"solid\")\n",
    "    plt.plot(np.arange(len(loss_final_mixup)),loss_final_mixup,label=\"Manifold(FinLayer) alpha:\"+str(mixup_alpha),color=color,linestyle=\"dashed\")\n",
    "loss = result_dict[\"No_Mixup\"][0]\n",
    "plt.plot(np.arange(len(loss)),loss,label=key,color=\"black\",linestyle=\"solid\",linewidth=3)\n",
    "plt.legend()\n",
    "    "
   ]
  },
  {
   "cell_type": "code",
   "execution_count": 54,
   "metadata": {},
   "outputs": [
    {
     "name": "stdout",
     "output_type": "stream",
     "text": [
      "0.6961753495559571\n",
      "0.6914275110147561\n",
      "0.7198351067342575\n",
      "0.821438484131151\n"
     ]
    }
   ],
   "source": [
    "for mixup_alpha in [0.04, 0.2, 1.0, 5.0]:\n",
    "    print(result_dict[\"standard_\"+str(mixup_alpha)][1][1][0])\n",
    "            "
   ]
  },
  {
   "cell_type": "code",
   "execution_count": 55,
   "metadata": {},
   "outputs": [
    {
     "name": "stdout",
     "output_type": "stream",
     "text": [
      "0.7060384139133866\n",
      "0.6797995030120679\n",
      "0.6800978624137344\n",
      "0.6934822059361039\n"
     ]
    }
   ],
   "source": [
    "for mixup_alpha in [0.04, 0.2, 1.0, 5.0]:\n",
    "    print(result_dict[\"fin_\"+str(mixup_alpha)][1][1][0])"
   ]
  },
  {
   "cell_type": "code",
   "execution_count": 59,
   "metadata": {},
   "outputs": [
    {
     "name": "stdout",
     "output_type": "stream",
     "text": [
      "0.7564877387444684\n"
     ]
    }
   ],
   "source": [
    "print(result_dict[\"No_Mixup\"][1][1][0])"
   ]
  },
  {
   "cell_type": "markdown",
   "metadata": {},
   "source": [
    "|alpha| No Mixup |Input Mixup|Final Layer Mixup| \n",
    "|-|-|-|-|\n",
    "|(No mixup) | 0.7576 | - | -|\n",
    "|0.04|-|0.696|0.706|\n",
    "|0.2|-|0.691|__0.680__|\n",
    "|1.0|-|0.720|__0.680__|\n",
    "|5.0|-|0.821|0.693|"
   ]
  },
  {
   "cell_type": "code",
   "execution_count": null,
   "metadata": {},
   "outputs": [],
   "source": []
  },
  {
   "cell_type": "code",
   "execution_count": null,
   "metadata": {},
   "outputs": [],
   "source": []
  },
  {
   "cell_type": "code",
   "execution_count": null,
   "metadata": {},
   "outputs": [],
   "source": []
  },
  {
   "cell_type": "code",
   "execution_count": null,
   "metadata": {},
   "outputs": [],
   "source": []
  },
  {
   "cell_type": "code",
   "execution_count": null,
   "metadata": {},
   "outputs": [],
   "source": []
  },
  {
   "cell_type": "code",
   "execution_count": null,
   "metadata": {},
   "outputs": [],
   "source": []
  }
 ],
 "metadata": {
  "kernelspec": {
   "display_name": "ml-env",
   "language": "python",
   "name": "ml-env"
  },
  "language_info": {
   "codemirror_mode": {
    "name": "ipython",
    "version": 3
   },
   "file_extension": ".py",
   "mimetype": "text/x-python",
   "name": "python",
   "nbconvert_exporter": "python",
   "pygments_lexer": "ipython3",
   "version": "3.7.3"
  }
 },
 "nbformat": 4,
 "nbformat_minor": 2
}
